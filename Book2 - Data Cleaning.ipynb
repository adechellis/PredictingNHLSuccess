{
 "cells": [
  {
   "cell_type": "markdown",
   "id": "e4b9425f",
   "metadata": {},
   "source": [
    "# Notebook 2 - Data Cleaning\n",
    "\n",
    "##### Alessandro DeChellis\n",
    "##### Data Set: salaries.csv \n",
    "##### Data Set: players.csv"
   ]
  },
  {
   "cell_type": "markdown",
   "id": "cc96a093",
   "metadata": {},
   "source": [
    "## Introduction\n",
    "\n",
    "In this notebook, we will take in the data from the previous notebook, <b> Book1 - Data Collection </b>. We will transform the data and marge the two datasets into one workable set ready for our modelling. \n",
    "\n",
    "The ideal data frame with have a team's season as the rows with the columns being season, year, salary cap, 5 playoff rounds for dummy variables and individual player salaries for players 1-20.\n",
    "\n",
    "There was a large amount of manual work done in this notebook in order to get the data where we wanted it to be, as it was not readily available online in an easier way.\n",
    "\n",
    "*** <b> DISCLAIMER: DO NOT RUN THIS NOTEBOOK, IT WILL AFFECT FUTURE NOTEBOOKS</b> ***"
   ]
  },
  {
   "cell_type": "code",
   "execution_count": 5,
   "id": "d6f101d1",
   "metadata": {},
   "outputs": [],
   "source": [
    "# Standard imports\n",
    "import numpy as np\n",
    "import pandas as pd\n",
    "import matplotlib.pyplot as plt\n",
    "import seaborn as sns"
   ]
  },
  {
   "cell_type": "markdown",
   "id": "6624c445",
   "metadata": {},
   "source": [
    "### Read in the data\n",
    "\n",
    "We first read in the salaries csv from our previous notebook"
   ]
  },
  {
   "cell_type": "code",
   "execution_count": 67,
   "id": "18d59744",
   "metadata": {},
   "outputs": [],
   "source": [
    "# Read in the csv\n",
    "\n",
    "salaries = pd.read_csv('data/salaries.csv')"
   ]
  },
  {
   "cell_type": "code",
   "execution_count": 533,
   "id": "d746448b",
   "metadata": {
    "scrolled": true
   },
   "outputs": [
    {
     "data": {
      "text/plain": [
       "year        0\n",
       "name        0\n",
       "position    0\n",
       "cap_hit     0\n",
       "dtype: int64"
      ]
     },
     "execution_count": 533,
     "metadata": {},
     "output_type": "execute_result"
    }
   ],
   "source": [
    "# Read in the salaries csv\n",
    "salaries.head()\n",
    "salaries.isna().sum()"
   ]
  },
  {
   "cell_type": "markdown",
   "id": "61434512",
   "metadata": {},
   "source": [
    "We then read in the players csv into a dataframe"
   ]
  },
  {
   "cell_type": "code",
   "execution_count": 60,
   "id": "61feec47",
   "metadata": {},
   "outputs": [],
   "source": [
    "# Read in the csv\n",
    "players = pd.read_csv('data/players.csv')"
   ]
  },
  {
   "cell_type": "markdown",
   "id": "1056c421",
   "metadata": {},
   "source": [
    "### Changing Value Types\n",
    "\n",
    "We need to change the value types in the salaries dataframe"
   ]
  },
  {
   "cell_type": "code",
   "execution_count": 68,
   "id": "c3bb7c87",
   "metadata": {
    "scrolled": true
   },
   "outputs": [
    {
     "name": "stdout",
     "output_type": "stream",
     "text": [
      "<class 'pandas.core.frame.DataFrame'>\n",
      "RangeIndex: 18042 entries, 0 to 18041\n",
      "Data columns (total 4 columns):\n",
      " #   Column    Non-Null Count  Dtype \n",
      "---  ------    --------------  ----- \n",
      " 0   year      18042 non-null  int64 \n",
      " 1   name      18042 non-null  object\n",
      " 2   position  18042 non-null  object\n",
      " 3   cap_hit   18042 non-null  int64 \n",
      "dtypes: int64(2), object(2)\n",
      "memory usage: 563.9+ KB\n"
     ]
    }
   ],
   "source": [
    "# Change the cap hit to int\n",
    "salaries['cap_hit'] = salaries['cap_hit'].astype(int)\n",
    "# Change the name to a string\n",
    "salaries['name'] = salaries['name'].astype(str)\n",
    "# Change the position to a string\n",
    "salaries['position'] = salaries['position'].astype(str)\n",
    "# Check that this worked\n",
    "salaries.info()"
   ]
  },
  {
   "cell_type": "markdown",
   "id": "d31d277f",
   "metadata": {},
   "source": [
    "### Ensuring the Names Line Up\n",
    "\n",
    "During intital investigation of the dataframes, it became very clear that there were lots of issues with the names in the two dataframes that would have to be changed before merging the dataframes. \n",
    "\n",
    "We needed to replace all the accent types on the letters, all of the spaces, change everything to lower case and get rid of the '(C)' on captains for each team. This ended up being a very manual process, as we needed to search both csvs to find what the issues were. "
   ]
  },
  {
   "cell_type": "code",
   "execution_count": 100,
   "id": "f8e8c513",
   "metadata": {
    "scrolled": false
   },
   "outputs": [
    {
     "name": "stderr",
     "output_type": "stream",
     "text": [
      "<ipython-input-100-e6913df7bb36>:1: FutureWarning: The default value of regex will change from True to False in a future version.\n",
      "  players['name'] = players['name'].str.replace((' \\(C\\)'), '')\n",
      "<ipython-input-100-e6913df7bb36>:14: FutureWarning: The default value of regex will change from True to False in a future version. In addition, single character regular expressions will*not* be treated as literal strings when regex=True.\n",
      "  salaries['name'] = salaries['name'].str.replace(('.'), '')\n",
      "<ipython-input-100-e6913df7bb36>:15: FutureWarning: The default value of regex will change from True to False in a future version. In addition, single character regular expressions will*not* be treated as literal strings when regex=True.\n",
      "  players['name'] = players['name'].str.replace(('.'), '')\n",
      "<ipython-input-100-e6913df7bb36>:22: FutureWarning: The default value of regex will change from True to False in a future version.\n",
      "  salaries['name'] = salaries['name'].str.replace('[.]', '')\n",
      "<ipython-input-100-e6913df7bb36>:23: FutureWarning: The default value of regex will change from True to False in a future version.\n",
      "  salaries['name'] = salaries['name'].str.replace('[0-9]', '')\n"
     ]
    }
   ],
   "source": [
    "# Replace all undesirable letters\n",
    "\n",
    "players['name'] = players['name'].str.replace((' \\(C\\)'), '')\n",
    "salaries['name'] = salaries['name'].str.replace(('é'), 'e')\n",
    "players['name'] = players['name'].str.replace(('é'), 'e')\n",
    "salaries['name'] = salaries['name'].str.replace(('á'), 'a')\n",
    "players['name'] = players['name'].str.replace(('á'), 'a')\n",
    "salaries['name'] = salaries['name'].str.replace(('í'), 'i')\n",
    "players['name'] = players['name'].str.replace(('í'), 'i')\n",
    "salaries['name'] = salaries['name'].str.replace(('ä'), 'a')\n",
    "players['name'] = players['name'].str.replace(('ä'), 'a')\n",
    "salaries['name'] = salaries['name'].str.replace(('\\''), '')\n",
    "players['name'] = players['name'].str.replace(('\\''), '')\n",
    "salaries['name'] = salaries['name'].str.replace(('ö'), 'o')\n",
    "players['name'] = players['name'].str.replace(('ö'), 'o')\n",
    "salaries['name'] = salaries['name'].str.replace(('.'), '')\n",
    "players['name'] = players['name'].str.replace(('.'), '')\n",
    "salaries['name'] = salaries['name'].str.replace(('î'), 'i')\n",
    "players['name'] = players['name'].str.replace(('î'), 'i')\n",
    "salaries['name'] = salaries['name'].str.replace((' '), '')\n",
    "salaries['name'] = salaries['name'].str.replace(('-'), '')\n",
    "players['name'] = players['name'].str.replace((' '), '')\n",
    "players['name'] = players['name'].str.replace(('-'), '')\n",
    "salaries['name'] = salaries['name'].str.replace('[.]', '')\n",
    "salaries['name'] = salaries['name'].str.replace('[0-9]', '')\n",
    "salaries['name'] = salaries['name'].str.replace(\"'\", '')\n",
    "salaries['name'] = salaries['name'].str.replace(\"'\", '')\n",
    "salaries['name'] = salaries['name'].apply(lambda x: str(x).lower())\n",
    "players['name'] = players['name'].apply(lambda x: str(x).lower())\n",
    "salaries['name'] = salaries['name'].str.replace('/ /g','')\n",
    "salaries['name'] = salaries['name'].str.replace('/ /g','')\n",
    "salaries['name'] = salaries['name'].str.rstrip()\n",
    "salaries['name'] = salaries['name'].str.rstrip()\n",
    "salaries['name'] = salaries['name'].str.replace('ç','c')\n",
    "salaries['name'] = salaries['name'].str.replace('ç','c')\n",
    "salaries['name'] = salaries['name'].str.replace('è','e')\n",
    "salaries['name'] = salaries['name'].str.replace('è','e')\n",
    "salaries['name'] = salaries['name'].str.replace('å','a')\n",
    "salaries['name'] = salaries['name'].str.replace('å','a')\n",
    "salaries['name'] = salaries['name'].str.replace('ü','u')\n",
    "salaries['name'] = salaries['name'].str.replace('ü','u')\n",
    "salaries['name'] = salaries['name'].str.replace('ë','e')\n",
    "salaries['name'] = salaries['name'].str.replace('ë','e')"
   ]
  },
  {
   "cell_type": "code",
   "execution_count": 291,
   "id": "7c45b818",
   "metadata": {},
   "outputs": [],
   "source": [
    "# This function was used to trim all whitespace\n",
    "\n",
    "def trim_all_columns(df):\n",
    "    \"\"\"\n",
    "    Trim whitespace from ends of each value across all series in dataframe\n",
    "    \"\"\"\n",
    "    trim_strings = lambda x: x.strip() if isinstance(x, str) else x\n",
    "    return df.applymap(trim_strings)\n",
    "\n",
    "salaries = trim_all_columns(salaries)\n",
    "players = trim_all_columns(players)"
   ]
  },
  {
   "cell_type": "markdown",
   "id": "ff5cde0b",
   "metadata": {},
   "source": [
    "We then checked that this worked"
   ]
  },
  {
   "cell_type": "code",
   "execution_count": 538,
   "id": "bb779968",
   "metadata": {},
   "outputs": [
    {
     "data": {
      "text/html": [
       "<div>\n",
       "<style scoped>\n",
       "    .dataframe tbody tr th:only-of-type {\n",
       "        vertical-align: middle;\n",
       "    }\n",
       "\n",
       "    .dataframe tbody tr th {\n",
       "        vertical-align: top;\n",
       "    }\n",
       "\n",
       "    .dataframe thead th {\n",
       "        text-align: right;\n",
       "    }\n",
       "</style>\n",
       "<table border=\"1\" class=\"dataframe\">\n",
       "  <thead>\n",
       "    <tr style=\"text-align: right;\">\n",
       "      <th></th>\n",
       "      <th>year</th>\n",
       "      <th>name</th>\n",
       "      <th>position</th>\n",
       "      <th>cap_hit</th>\n",
       "    </tr>\n",
       "  </thead>\n",
       "  <tbody>\n",
       "    <tr>\n",
       "      <th>0</th>\n",
       "      <td>2021</td>\n",
       "      <td>connormcdavid</td>\n",
       "      <td>C</td>\n",
       "      <td>12500000</td>\n",
       "    </tr>\n",
       "    <tr>\n",
       "      <th>1</th>\n",
       "      <td>2021</td>\n",
       "      <td>artemipanarin</td>\n",
       "      <td>LW</td>\n",
       "      <td>11642857</td>\n",
       "    </tr>\n",
       "    <tr>\n",
       "      <th>2</th>\n",
       "      <td>2021</td>\n",
       "      <td>austonmatthews</td>\n",
       "      <td>C</td>\n",
       "      <td>11640250</td>\n",
       "    </tr>\n",
       "    <tr>\n",
       "      <th>3</th>\n",
       "      <td>2021</td>\n",
       "      <td>erikkarlsson</td>\n",
       "      <td>RD</td>\n",
       "      <td>11500000</td>\n",
       "    </tr>\n",
       "    <tr>\n",
       "      <th>4</th>\n",
       "      <td>2021</td>\n",
       "      <td>johntavares</td>\n",
       "      <td>C</td>\n",
       "      <td>11000000</td>\n",
       "    </tr>\n",
       "  </tbody>\n",
       "</table>\n",
       "</div>"
      ],
      "text/plain": [
       "   year            name position   cap_hit\n",
       "0  2021   connormcdavid        C  12500000\n",
       "1  2021   artemipanarin       LW  11642857\n",
       "2  2021  austonmatthews        C  11640250\n",
       "3  2021    erikkarlsson       RD  11500000\n",
       "4  2021     johntavares        C  11000000"
      ]
     },
     "execution_count": 538,
     "metadata": {},
     "output_type": "execute_result"
    }
   ],
   "source": [
    "# Check that the salaries dataframe changed\n",
    "salaries.head()"
   ]
  },
  {
   "cell_type": "code",
   "execution_count": 539,
   "id": "6de299d1",
   "metadata": {
    "scrolled": true
   },
   "outputs": [
    {
     "data": {
      "text/html": [
       "<div>\n",
       "<style scoped>\n",
       "    .dataframe tbody tr th:only-of-type {\n",
       "        vertical-align: middle;\n",
       "    }\n",
       "\n",
       "    .dataframe tbody tr th {\n",
       "        vertical-align: top;\n",
       "    }\n",
       "\n",
       "    .dataframe thead th {\n",
       "        text-align: right;\n",
       "    }\n",
       "</style>\n",
       "<table border=\"1\" class=\"dataframe\">\n",
       "  <thead>\n",
       "    <tr style=\"text-align: right;\">\n",
       "      <th></th>\n",
       "      <th>Unnamed: 0</th>\n",
       "      <th>year</th>\n",
       "      <th>name</th>\n",
       "      <th>team</th>\n",
       "    </tr>\n",
       "  </thead>\n",
       "  <tbody>\n",
       "    <tr>\n",
       "      <th>0</th>\n",
       "      <td>0</td>\n",
       "      <td>2007</td>\n",
       "      <td>craigadams</td>\n",
       "      <td>CAR</td>\n",
       "    </tr>\n",
       "    <tr>\n",
       "      <th>1</th>\n",
       "      <td>1</td>\n",
       "      <td>2007</td>\n",
       "      <td>kevynadams</td>\n",
       "      <td>CAR</td>\n",
       "    </tr>\n",
       "    <tr>\n",
       "      <th>2</th>\n",
       "      <td>2</td>\n",
       "      <td>2007</td>\n",
       "      <td>keithaucoin</td>\n",
       "      <td>CAR</td>\n",
       "    </tr>\n",
       "    <tr>\n",
       "      <th>3</th>\n",
       "      <td>3</td>\n",
       "      <td>2007</td>\n",
       "      <td>antonbabchuk</td>\n",
       "      <td>CAR</td>\n",
       "    </tr>\n",
       "    <tr>\n",
       "      <th>4</th>\n",
       "      <td>4</td>\n",
       "      <td>2007</td>\n",
       "      <td>ryanbayda</td>\n",
       "      <td>CAR</td>\n",
       "    </tr>\n",
       "  </tbody>\n",
       "</table>\n",
       "</div>"
      ],
      "text/plain": [
       "   Unnamed: 0  year          name team\n",
       "0           0  2007    craigadams  CAR\n",
       "1           1  2007    kevynadams  CAR\n",
       "2           2  2007   keithaucoin  CAR\n",
       "3           3  2007  antonbabchuk  CAR\n",
       "4           4  2007     ryanbayda  CAR"
      ]
     },
     "execution_count": 539,
     "metadata": {},
     "output_type": "execute_result"
    }
   ],
   "source": [
    "# Do the same for players\n",
    "players.head()"
   ]
  },
  {
   "cell_type": "markdown",
   "id": "b451e4d6",
   "metadata": {},
   "source": [
    "### Further Manual Cleaning\n",
    "\n",
    "After further analysis, it was noticed that there was still a large issue with names being different in the two data frames (ie. Rob and Robert, Dave and David). So the below code was run a multitude of times with different names until the data was sufficient to join."
   ]
  },
  {
   "cell_type": "code",
   "execution_count": null,
   "id": "2a8283e3",
   "metadata": {},
   "outputs": [],
   "source": [
    "condition = players['name'] == 'davemoss'\n",
    "players.loc[condition, 'name'] = 'davidmoss'"
   ]
  },
  {
   "cell_type": "markdown",
   "id": "842055c3",
   "metadata": {},
   "source": [
    "### Joining Dataframes\n",
    "\n",
    "Now that the data is clean, we can use the `merge` function to join the two dataframes. "
   ]
  },
  {
   "cell_type": "code",
   "execution_count": null,
   "id": "4d8d5c03",
   "metadata": {},
   "outputs": [],
   "source": [
    "## Merge on name and year\n",
    "new_df = players.merge(salaries, how='left', on=['name','year'] )"
   ]
  },
  {
   "cell_type": "markdown",
   "id": "6976dbef",
   "metadata": {},
   "source": [
    "It was realized that there were too many unknown salaries before 2012, so all years from 2007-2011 were dropped. "
   ]
  },
  {
   "cell_type": "code",
   "execution_count": null,
   "id": "8367cfaf",
   "metadata": {
    "scrolled": true
   },
   "outputs": [],
   "source": [
    "# Drop all years before 2012\n",
    "\n",
    "good = new_df.loc[new_df['year'] != 2007]\n",
    "good = good.loc[new_df['year'] != 2008]\n",
    "good = good.loc[new_df['year'] != 2009]\n",
    "good = good.loc[new_df['year'] != 2010]\n",
    "good = good.loc[new_df['year'] != 2011]"
   ]
  },
  {
   "cell_type": "markdown",
   "id": "84ba6a03",
   "metadata": {},
   "source": [
    "We then saved this to a new csv to save our progress."
   ]
  },
  {
   "cell_type": "code",
   "execution_count": null,
   "id": "7ea5763e",
   "metadata": {},
   "outputs": [],
   "source": [
    "good.to_csv('data/clean_players.csv')"
   ]
  },
  {
   "cell_type": "markdown",
   "id": "b05c30c3",
   "metadata": {},
   "source": [
    "### Restructuring\n",
    "\n",
    "Now that we have clean data, we can begin to restructure the data in order to have it ready for modelling"
   ]
  },
  {
   "cell_type": "code",
   "execution_count": null,
   "id": "63679271",
   "metadata": {},
   "outputs": [],
   "source": [
    "# Read in the csv\n",
    "clean = pd.read_csv('data/clean_players.csv')"
   ]
  },
  {
   "cell_type": "markdown",
   "id": "10483cc2",
   "metadata": {},
   "source": [
    "We then properly ordered the salaries by team, year and cap_hit. We also decided to drop the unnamed axis column and the name column, as the player's name is irrelevant to us in this analysis. "
   ]
  },
  {
   "cell_type": "code",
   "execution_count": 616,
   "id": "95e46f82",
   "metadata": {},
   "outputs": [],
   "source": [
    "# sort the values and drop the two irrelevant columns\n",
    "\n",
    "clean = clean.sort_values(by=['team', 'year', 'position', 'cap_hit'], ascending=False)\n",
    "clean.head()\n",
    "clean2 = clean.drop(['name'], axis=1)\n",
    "clean2 = clean2.drop(['Unnamed: 0'], axis=1)"
   ]
  },
  {
   "cell_type": "markdown",
   "id": "b7664908",
   "metadata": {},
   "source": [
    "We then check that this worked."
   ]
  },
  {
   "cell_type": "code",
   "execution_count": 10,
   "id": "d4292c53",
   "metadata": {
    "scrolled": true
   },
   "outputs": [
    {
     "data": {
      "text/html": [
       "<div>\n",
       "<style scoped>\n",
       "    .dataframe tbody tr th:only-of-type {\n",
       "        vertical-align: middle;\n",
       "    }\n",
       "\n",
       "    .dataframe tbody tr th {\n",
       "        vertical-align: top;\n",
       "    }\n",
       "\n",
       "    .dataframe thead th {\n",
       "        text-align: right;\n",
       "    }\n",
       "</style>\n",
       "<table border=\"1\" class=\"dataframe\">\n",
       "  <thead>\n",
       "    <tr style=\"text-align: right;\">\n",
       "      <th></th>\n",
       "      <th>year</th>\n",
       "      <th>team</th>\n",
       "      <th>position</th>\n",
       "      <th>cap_hit</th>\n",
       "    </tr>\n",
       "  </thead>\n",
       "  <tbody>\n",
       "    <tr>\n",
       "      <th>0</th>\n",
       "      <td>2021</td>\n",
       "      <td>WPG</td>\n",
       "      <td>G</td>\n",
       "      <td>6166666.0</td>\n",
       "    </tr>\n",
       "    <tr>\n",
       "      <th>1</th>\n",
       "      <td>2021</td>\n",
       "      <td>WPG</td>\n",
       "      <td>G</td>\n",
       "      <td>1500000.0</td>\n",
       "    </tr>\n",
       "    <tr>\n",
       "      <th>2</th>\n",
       "      <td>2021</td>\n",
       "      <td>WPG</td>\n",
       "      <td>F</td>\n",
       "      <td>8250000.0</td>\n",
       "    </tr>\n",
       "    <tr>\n",
       "      <th>3</th>\n",
       "      <td>2021</td>\n",
       "      <td>WPG</td>\n",
       "      <td>F</td>\n",
       "      <td>7142857.0</td>\n",
       "    </tr>\n",
       "    <tr>\n",
       "      <th>4</th>\n",
       "      <td>2021</td>\n",
       "      <td>WPG</td>\n",
       "      <td>F</td>\n",
       "      <td>6750000.0</td>\n",
       "    </tr>\n",
       "  </tbody>\n",
       "</table>\n",
       "</div>"
      ],
      "text/plain": [
       "   year team position    cap_hit\n",
       "0  2021  WPG        G  6166666.0\n",
       "1  2021  WPG        G  1500000.0\n",
       "2  2021  WPG        F  8250000.0\n",
       "3  2021  WPG        F  7142857.0\n",
       "4  2021  WPG        F  6750000.0"
      ]
     },
     "execution_count": 10,
     "metadata": {},
     "output_type": "execute_result"
    }
   ],
   "source": [
    "# Check our work\n",
    "clean2.head()"
   ]
  },
  {
   "cell_type": "markdown",
   "id": "b2333ce6",
   "metadata": {},
   "source": [
    "It was also determined that we can drop the position column."
   ]
  },
  {
   "cell_type": "code",
   "execution_count": 11,
   "id": "78c250f3",
   "metadata": {},
   "outputs": [],
   "source": [
    "# Drop the position column\n",
    "clean3 = clean2.drop(['position'], axis=1)"
   ]
  },
  {
   "cell_type": "markdown",
   "id": "6736dde4",
   "metadata": {},
   "source": [
    "In order to get the P1-P25 values that we needed to pivot the table on, we saved the file as a csv and manual imputed P1-P25 for each team. "
   ]
  },
  {
   "cell_type": "code",
   "execution_count": null,
   "id": "81e23cc6",
   "metadata": {},
   "outputs": [],
   "source": [
    "# Save to csv\n",
    "clean3.to_csv('data/cleanest.csv')"
   ]
  },
  {
   "cell_type": "markdown",
   "id": "f05c057d",
   "metadata": {},
   "source": [
    "We then read this data back into the notebook after the P values were added and dropped the NaN values."
   ]
  },
  {
   "cell_type": "code",
   "execution_count": 219,
   "id": "5508b04b",
   "metadata": {
    "scrolled": true
   },
   "outputs": [
    {
     "data": {
      "text/html": [
       "<div>\n",
       "<style scoped>\n",
       "    .dataframe tbody tr th:only-of-type {\n",
       "        vertical-align: middle;\n",
       "    }\n",
       "\n",
       "    .dataframe tbody tr th {\n",
       "        vertical-align: top;\n",
       "    }\n",
       "\n",
       "    .dataframe thead th {\n",
       "        text-align: right;\n",
       "    }\n",
       "</style>\n",
       "<table border=\"1\" class=\"dataframe\">\n",
       "  <thead>\n",
       "    <tr style=\"text-align: right;\">\n",
       "      <th></th>\n",
       "      <th>year</th>\n",
       "      <th>team</th>\n",
       "      <th>Player</th>\n",
       "      <th>cap_hit</th>\n",
       "    </tr>\n",
       "  </thead>\n",
       "  <tbody>\n",
       "    <tr>\n",
       "      <th>0</th>\n",
       "      <td>2021</td>\n",
       "      <td>WPG</td>\n",
       "      <td>P1</td>\n",
       "      <td>8250000.0</td>\n",
       "    </tr>\n",
       "    <tr>\n",
       "      <th>1</th>\n",
       "      <td>2021</td>\n",
       "      <td>WPG</td>\n",
       "      <td>P2</td>\n",
       "      <td>7142857.0</td>\n",
       "    </tr>\n",
       "    <tr>\n",
       "      <th>2</th>\n",
       "      <td>2021</td>\n",
       "      <td>WPG</td>\n",
       "      <td>P3</td>\n",
       "      <td>6750000.0</td>\n",
       "    </tr>\n",
       "    <tr>\n",
       "      <th>3</th>\n",
       "      <td>2021</td>\n",
       "      <td>WPG</td>\n",
       "      <td>P4</td>\n",
       "      <td>6500000.0</td>\n",
       "    </tr>\n",
       "    <tr>\n",
       "      <th>4</th>\n",
       "      <td>2021</td>\n",
       "      <td>WPG</td>\n",
       "      <td>P5</td>\n",
       "      <td>6250000.0</td>\n",
       "    </tr>\n",
       "  </tbody>\n",
       "</table>\n",
       "</div>"
      ],
      "text/plain": [
       "   year team Player    cap_hit\n",
       "0  2021  WPG     P1  8250000.0\n",
       "1  2021  WPG     P2  7142857.0\n",
       "2  2021  WPG     P3  6750000.0\n",
       "3  2021  WPG     P4  6500000.0\n",
       "4  2021  WPG     P5  6250000.0"
      ]
     },
     "execution_count": 219,
     "metadata": {},
     "output_type": "execute_result"
    }
   ],
   "source": [
    "# read in the csv and drop the NaN values\n",
    "\n",
    "clean4 = clean4.dropna()\n",
    "clean4.head()"
   ]
  },
  {
   "cell_type": "markdown",
   "id": "1bbbc310",
   "metadata": {},
   "source": [
    "## Pivoting the Table\n",
    "\n",
    "After the manual work was done, it was realized that in order to have the columns ordered in the way we wanted, the 'P' in P1-P25 would have to be dropped. \n",
    "\n",
    "We then pivoted the table to transform the columns into rows"
   ]
  },
  {
   "cell_type": "code",
   "execution_count": 244,
   "id": "c8afb4ff",
   "metadata": {},
   "outputs": [],
   "source": [
    "# Drop P \n",
    "clean4['Player'] = clean4['Player'].str.replace(('P'), '')\n",
    "clean4['Player'] = clean4['Player'].astype(int)\n",
    "# Pivot the dataframe\n",
    "clean5 = clean4.pivot(index=['team','year'], columns='Player', values='cap_hit')\n",
    "pd.set_option(\"display.max_columns\", None)\n",
    "# Save to a csv\n",
    "clean5.to_csv('data/nhl_data.csv', index=True)"
   ]
  },
  {
   "cell_type": "markdown",
   "id": "37dbc653",
   "metadata": {},
   "source": [
    "### Manual Imputation of Results\n",
    "\n",
    "Again it was realized that it was much easier to manually add in the results for each team's season in the csv. There were 5 columns added as:\n",
    "\n",
    "- R1: Team made the playoffs\n",
    "- R2: Team made the second round\n",
    "- R3: Team made the third round\n",
    "- R4: Team made the Stanley Cup Finals\n",
    "- WC: Team won the Stanley Cup\n",
    "\n",
    "The values were either 1 or 0 depending on positive or negative, respectively."
   ]
  },
  {
   "cell_type": "markdown",
   "id": "334d3362",
   "metadata": {},
   "source": [
    "### Adding Salary Cap\n",
    "\n",
    "To add the salary cap for each season, we read the csv back into the notebook and created a column called `salary cap`"
   ]
  },
  {
   "cell_type": "code",
   "execution_count": 279,
   "id": "61af70de",
   "metadata": {},
   "outputs": [],
   "source": [
    "# Read the csv back in\n",
    "nhl_data = pd.read_csv('data/nhl_data.csv')"
   ]
  },
  {
   "cell_type": "code",
   "execution_count": 280,
   "id": "8e67b612",
   "metadata": {},
   "outputs": [],
   "source": [
    "# Create the salary cap column\n",
    "nhl_data['salary cap'] = 0"
   ]
  },
  {
   "cell_type": "code",
   "execution_count": 281,
   "id": "e58adc60",
   "metadata": {
    "scrolled": false
   },
   "outputs": [
    {
     "data": {
      "text/html": [
       "<div>\n",
       "<style scoped>\n",
       "    .dataframe tbody tr th:only-of-type {\n",
       "        vertical-align: middle;\n",
       "    }\n",
       "\n",
       "    .dataframe tbody tr th {\n",
       "        vertical-align: top;\n",
       "    }\n",
       "\n",
       "    .dataframe thead th {\n",
       "        text-align: right;\n",
       "    }\n",
       "</style>\n",
       "<table border=\"1\" class=\"dataframe\">\n",
       "  <thead>\n",
       "    <tr style=\"text-align: right;\">\n",
       "      <th></th>\n",
       "      <th>team</th>\n",
       "      <th>year</th>\n",
       "      <th>R1</th>\n",
       "      <th>R2</th>\n",
       "      <th>R3</th>\n",
       "      <th>R4</th>\n",
       "      <th>WC</th>\n",
       "      <th>1</th>\n",
       "      <th>2</th>\n",
       "      <th>3</th>\n",
       "      <th>4</th>\n",
       "      <th>5</th>\n",
       "      <th>6</th>\n",
       "      <th>7</th>\n",
       "      <th>8</th>\n",
       "      <th>9</th>\n",
       "      <th>10</th>\n",
       "      <th>11</th>\n",
       "      <th>12</th>\n",
       "      <th>13</th>\n",
       "      <th>14</th>\n",
       "      <th>15</th>\n",
       "      <th>16</th>\n",
       "      <th>17</th>\n",
       "      <th>18</th>\n",
       "      <th>19</th>\n",
       "      <th>20</th>\n",
       "      <th>21</th>\n",
       "      <th>22</th>\n",
       "      <th>23</th>\n",
       "      <th>24</th>\n",
       "      <th>25</th>\n",
       "      <th>salary cap</th>\n",
       "    </tr>\n",
       "  </thead>\n",
       "  <tbody>\n",
       "    <tr>\n",
       "      <th>0</th>\n",
       "      <td>ARI</td>\n",
       "      <td>2012</td>\n",
       "      <td>1.0</td>\n",
       "      <td>1.0</td>\n",
       "      <td>1.0</td>\n",
       "      <td>NaN</td>\n",
       "      <td>NaN</td>\n",
       "      <td>5250000.0</td>\n",
       "      <td>5000000.0</td>\n",
       "      <td>4550000.0</td>\n",
       "      <td>3750000.0</td>\n",
       "      <td>3000000.0</td>\n",
       "      <td>3000000.0</td>\n",
       "      <td>2975000.0</td>\n",
       "      <td>2750000.0</td>\n",
       "      <td>2000000.0</td>\n",
       "      <td>1850000.0</td>\n",
       "      <td>1800000.0</td>\n",
       "      <td>1800000.0</td>\n",
       "      <td>1750000.0</td>\n",
       "      <td>1400000.0</td>\n",
       "      <td>1325000.0</td>\n",
       "      <td>1250000.0</td>\n",
       "      <td>1100000.0</td>\n",
       "      <td>1050000.0</td>\n",
       "      <td>900000.0</td>\n",
       "      <td>900000.0</td>\n",
       "      <td>900000.0</td>\n",
       "      <td>850000.0</td>\n",
       "      <td>625000.0</td>\n",
       "      <td>625000.0</td>\n",
       "      <td>612500.0</td>\n",
       "      <td>0</td>\n",
       "    </tr>\n",
       "    <tr>\n",
       "      <th>1</th>\n",
       "      <td>ARI</td>\n",
       "      <td>2013</td>\n",
       "      <td>NaN</td>\n",
       "      <td>NaN</td>\n",
       "      <td>NaN</td>\n",
       "      <td>NaN</td>\n",
       "      <td>NaN</td>\n",
       "      <td>5300000.0</td>\n",
       "      <td>5250000.0</td>\n",
       "      <td>4000000.0</td>\n",
       "      <td>3750000.0</td>\n",
       "      <td>3500000.0</td>\n",
       "      <td>3100000.0</td>\n",
       "      <td>3000000.0</td>\n",
       "      <td>2975000.0</td>\n",
       "      <td>2750000.0</td>\n",
       "      <td>2000000.0</td>\n",
       "      <td>1850000.0</td>\n",
       "      <td>1800000.0</td>\n",
       "      <td>1750000.0</td>\n",
       "      <td>1325000.0</td>\n",
       "      <td>1250000.0</td>\n",
       "      <td>1100000.0</td>\n",
       "      <td>900000.0</td>\n",
       "      <td>900000.0</td>\n",
       "      <td>853333.0</td>\n",
       "      <td>850500.0</td>\n",
       "      <td>803250.0</td>\n",
       "      <td>737500.0</td>\n",
       "      <td>675000.0</td>\n",
       "      <td>650000.0</td>\n",
       "      <td>650000.0</td>\n",
       "      <td>0</td>\n",
       "    </tr>\n",
       "    <tr>\n",
       "      <th>2</th>\n",
       "      <td>ARI</td>\n",
       "      <td>2014</td>\n",
       "      <td>NaN</td>\n",
       "      <td>NaN</td>\n",
       "      <td>NaN</td>\n",
       "      <td>NaN</td>\n",
       "      <td>NaN</td>\n",
       "      <td>5666667.0</td>\n",
       "      <td>5500000.0</td>\n",
       "      <td>5500000.0</td>\n",
       "      <td>5300000.0</td>\n",
       "      <td>5250000.0</td>\n",
       "      <td>4500000.0</td>\n",
       "      <td>4000000.0</td>\n",
       "      <td>3750000.0</td>\n",
       "      <td>3100000.0</td>\n",
       "      <td>3000000.0</td>\n",
       "      <td>2975000.0</td>\n",
       "      <td>2750000.0</td>\n",
       "      <td>2550000.0</td>\n",
       "      <td>2500000.0</td>\n",
       "      <td>1187500.0</td>\n",
       "      <td>1150000.0</td>\n",
       "      <td>875000.0</td>\n",
       "      <td>870000.0</td>\n",
       "      <td>863333.0</td>\n",
       "      <td>853333.0</td>\n",
       "      <td>840000.0</td>\n",
       "      <td>830833.0</td>\n",
       "      <td>785000.0</td>\n",
       "      <td>750000.0</td>\n",
       "      <td>737500.0</td>\n",
       "      <td>0</td>\n",
       "    </tr>\n",
       "    <tr>\n",
       "      <th>3</th>\n",
       "      <td>ARI</td>\n",
       "      <td>2015</td>\n",
       "      <td>NaN</td>\n",
       "      <td>NaN</td>\n",
       "      <td>NaN</td>\n",
       "      <td>NaN</td>\n",
       "      <td>NaN</td>\n",
       "      <td>5666667.0</td>\n",
       "      <td>5500000.0</td>\n",
       "      <td>5300000.0</td>\n",
       "      <td>5250000.0</td>\n",
       "      <td>4800000.0</td>\n",
       "      <td>4500000.0</td>\n",
       "      <td>4000000.0</td>\n",
       "      <td>3750000.0</td>\n",
       "      <td>3100000.0</td>\n",
       "      <td>2550000.0</td>\n",
       "      <td>2500000.0</td>\n",
       "      <td>1187500.0</td>\n",
       "      <td>1150000.0</td>\n",
       "      <td>1150000.0</td>\n",
       "      <td>1116667.0</td>\n",
       "      <td>925000.0</td>\n",
       "      <td>894167.0</td>\n",
       "      <td>875000.0</td>\n",
       "      <td>863333.0</td>\n",
       "      <td>853333.0</td>\n",
       "      <td>850500.0</td>\n",
       "      <td>840000.0</td>\n",
       "      <td>830833.0</td>\n",
       "      <td>800000.0</td>\n",
       "      <td>667500.0</td>\n",
       "      <td>0</td>\n",
       "    </tr>\n",
       "    <tr>\n",
       "      <th>4</th>\n",
       "      <td>ARI</td>\n",
       "      <td>2016</td>\n",
       "      <td>NaN</td>\n",
       "      <td>NaN</td>\n",
       "      <td>NaN</td>\n",
       "      <td>NaN</td>\n",
       "      <td>NaN</td>\n",
       "      <td>5666667.0</td>\n",
       "      <td>5500000.0</td>\n",
       "      <td>5300000.0</td>\n",
       "      <td>3750000.0</td>\n",
       "      <td>3750000.0</td>\n",
       "      <td>3500000.0</td>\n",
       "      <td>3500000.0</td>\n",
       "      <td>3200000.0</td>\n",
       "      <td>3100000.0</td>\n",
       "      <td>3000000.0</td>\n",
       "      <td>2083333.0</td>\n",
       "      <td>1750000.0</td>\n",
       "      <td>1150000.0</td>\n",
       "      <td>1116667.0</td>\n",
       "      <td>1040000.0</td>\n",
       "      <td>925000.0</td>\n",
       "      <td>925000.0</td>\n",
       "      <td>925000.0</td>\n",
       "      <td>875000.0</td>\n",
       "      <td>875000.0</td>\n",
       "      <td>863333.0</td>\n",
       "      <td>863333.0</td>\n",
       "      <td>853333.0</td>\n",
       "      <td>850500.0</td>\n",
       "      <td>772500.0</td>\n",
       "      <td>0</td>\n",
       "    </tr>\n",
       "  </tbody>\n",
       "</table>\n",
       "</div>"
      ],
      "text/plain": [
       "  team  year   R1   R2   R3  R4  WC          1          2          3  \\\n",
       "0  ARI  2012  1.0  1.0  1.0 NaN NaN  5250000.0  5000000.0  4550000.0   \n",
       "1  ARI  2013  NaN  NaN  NaN NaN NaN  5300000.0  5250000.0  4000000.0   \n",
       "2  ARI  2014  NaN  NaN  NaN NaN NaN  5666667.0  5500000.0  5500000.0   \n",
       "3  ARI  2015  NaN  NaN  NaN NaN NaN  5666667.0  5500000.0  5300000.0   \n",
       "4  ARI  2016  NaN  NaN  NaN NaN NaN  5666667.0  5500000.0  5300000.0   \n",
       "\n",
       "           4          5          6          7          8          9  \\\n",
       "0  3750000.0  3000000.0  3000000.0  2975000.0  2750000.0  2000000.0   \n",
       "1  3750000.0  3500000.0  3100000.0  3000000.0  2975000.0  2750000.0   \n",
       "2  5300000.0  5250000.0  4500000.0  4000000.0  3750000.0  3100000.0   \n",
       "3  5250000.0  4800000.0  4500000.0  4000000.0  3750000.0  3100000.0   \n",
       "4  3750000.0  3750000.0  3500000.0  3500000.0  3200000.0  3100000.0   \n",
       "\n",
       "          10         11         12         13         14         15  \\\n",
       "0  1850000.0  1800000.0  1800000.0  1750000.0  1400000.0  1325000.0   \n",
       "1  2000000.0  1850000.0  1800000.0  1750000.0  1325000.0  1250000.0   \n",
       "2  3000000.0  2975000.0  2750000.0  2550000.0  2500000.0  1187500.0   \n",
       "3  2550000.0  2500000.0  1187500.0  1150000.0  1150000.0  1116667.0   \n",
       "4  3000000.0  2083333.0  1750000.0  1150000.0  1116667.0  1040000.0   \n",
       "\n",
       "          16         17         18        19        20        21        22  \\\n",
       "0  1250000.0  1100000.0  1050000.0  900000.0  900000.0  900000.0  850000.0   \n",
       "1  1100000.0   900000.0   900000.0  853333.0  850500.0  803250.0  737500.0   \n",
       "2  1150000.0   875000.0   870000.0  863333.0  853333.0  840000.0  830833.0   \n",
       "3   925000.0   894167.0   875000.0  863333.0  853333.0  850500.0  840000.0   \n",
       "4   925000.0   925000.0   925000.0  875000.0  875000.0  863333.0  863333.0   \n",
       "\n",
       "         23        24        25  salary cap  \n",
       "0  625000.0  625000.0  612500.0           0  \n",
       "1  675000.0  650000.0  650000.0           0  \n",
       "2  785000.0  750000.0  737500.0           0  \n",
       "3  830833.0  800000.0  667500.0           0  \n",
       "4  853333.0  850500.0  772500.0           0  "
      ]
     },
     "execution_count": 281,
     "metadata": {},
     "output_type": "execute_result"
    }
   ],
   "source": [
    "# Check that it worked\n",
    "nhl_data.head()"
   ]
  },
  {
   "cell_type": "markdown",
   "id": "2557df4b",
   "metadata": {},
   "source": [
    "The salary cap was then added for each year individually. The info came from www.capfriendly.com"
   ]
  },
  {
   "cell_type": "code",
   "execution_count": 285,
   "id": "71390baf",
   "metadata": {},
   "outputs": [],
   "source": [
    "# Add in the salary cap\n",
    "condition = (nhl_data['year'] == 2012)\n",
    "nhl_data.loc[condition, 'salary cap'] = 64300000\n",
    "condition = (nhl_data['year'] == 2013)\n",
    "nhl_data.loc[condition, 'salary cap'] = 64300000\n",
    "condition = (nhl_data['year'] == 2014)\n",
    "nhl_data.loc[condition, 'salary cap'] = 64300000\n",
    "condition = (nhl_data['year'] == 2015)\n",
    "nhl_data.loc[condition, 'salary cap'] = 69000000\n",
    "condition = (nhl_data['year'] == 2016)\n",
    "nhl_data.loc[condition, 'salary cap'] = 71400000\n",
    "condition = (nhl_data['year'] == 2017)\n",
    "nhl_data.loc[condition, 'salary cap'] = 73000000\n",
    "condition = (nhl_data['year'] == 2018)\n",
    "nhl_data.loc[condition, 'salary cap'] = 75000000\n",
    "condition = (nhl_data['year'] == 2019)\n",
    "nhl_data.loc[condition, 'salary cap'] = 79500000\n",
    "condition = (nhl_data['year'] == 2020)\n",
    "nhl_data.loc[condition, 'salary cap'] = 81500000\n",
    "condition = (nhl_data['year'] == 2021)\n",
    "nhl_data.loc[condition, 'salary cap'] = 81500000"
   ]
  },
  {
   "cell_type": "markdown",
   "id": "41b8c1e2",
   "metadata": {},
   "source": [
    "We can now save this final table to a csv and move on to the EDA and visualization Notebook."
   ]
  },
  {
   "cell_type": "code",
   "execution_count": 296,
   "id": "53479a68",
   "metadata": {},
   "outputs": [],
   "source": [
    "# Save to csv\n",
    "nhl_data.to_csv('nhl_data.csv')"
   ]
  },
  {
   "cell_type": "markdown",
   "id": "c068b0a7",
   "metadata": {},
   "source": [
    "## Conclusion\n",
    "\n",
    "In this notebook, we formatted our data into a dataset fit for our EDA and visualization. There was much more manual work than we would hope for, but it was necessary to get to our final result. Our data is now exactly how we outlined in the wireframe and we can begin to look for meaningful results. \n",
    "\n",
    "This process turned out to be quite labour intensive, but was worth it to get the ideal dataset. \n",
    "\n",
    "We can now begin our EDA and Visualization in the next notebook: <b> Book3 - EDA and Visualization </b>"
   ]
  }
 ],
 "metadata": {
  "kernelspec": {
   "display_name": "Python 3",
   "language": "python",
   "name": "python3"
  },
  "language_info": {
   "codemirror_mode": {
    "name": "ipython",
    "version": 3
   },
   "file_extension": ".py",
   "mimetype": "text/x-python",
   "name": "python",
   "nbconvert_exporter": "python",
   "pygments_lexer": "ipython3",
   "version": "3.8.8"
  }
 },
 "nbformat": 4,
 "nbformat_minor": 5
}
