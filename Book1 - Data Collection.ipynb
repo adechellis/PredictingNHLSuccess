{
 "cells": [
  {
   "cell_type": "markdown",
   "id": "eb26617f",
   "metadata": {},
   "source": [
    "# Notebook 1 - Data Collection\n",
    "\n",
    "##### Alessandro DeChellis\n"
   ]
  },
  {
   "cell_type": "markdown",
   "id": "8091e4c3",
   "metadata": {},
   "source": [
    "## Introduction\n",
    "\n",
    "The goal of this report is to anaylze how NHL team payrolls affect regular season and playoff success. In order to to this, we need to first get 2 tables, one for player salaries and one for team rosters by year. \n",
    "\n",
    "This will be done through webscraping from www.capfriendly.com and www.hockey-reference.com. \n",
    "\n",
    "*** <b> DISCLAIMER: DO NOT RUN THIS NOTEBOOK, IT IS FOR READING AND CLARIFICATION PURPOSES ONLY </b> ***"
   ]
  },
  {
   "cell_type": "markdown",
   "id": "1b364615",
   "metadata": {},
   "source": [
    "We first import our libraries"
   ]
  },
  {
   "cell_type": "code",
   "execution_count": 2,
   "id": "5452a9ce",
   "metadata": {},
   "outputs": [],
   "source": [
    "# Standard imports\n",
    "import numpy as np\n",
    "import pandas as pd\n",
    "import matplotlib.pyplot as plt\n",
    "\n",
    "# For scraping\n",
    "import requests\n",
    "from bs4 import BeautifulSoup\n",
    "\n",
    "# For adding delays so that we don't spam requests\n",
    "import time"
   ]
  },
  {
   "cell_type": "markdown",
   "id": "a295d12a",
   "metadata": {},
   "source": [
    "We started by setting up 4 lists to fill with our data"
   ]
  },
  {
   "cell_type": "markdown",
   "id": "d2937725",
   "metadata": {},
   "source": [
    "### Salaries"
   ]
  },
  {
   "cell_type": "code",
   "execution_count": 51,
   "id": "c04c3ae8",
   "metadata": {},
   "outputs": [],
   "source": [
    "# Set up blank lists\n",
    "year = []\n",
    "name = []\n",
    "position = []\n",
    "cap_hit = []"
   ]
  },
  {
   "cell_type": "markdown",
   "id": "d967070a",
   "metadata": {},
   "source": [
    "#### Looping Through Seasons\n",
    "\n",
    "We then run a loop for each season. We did this manually for each season, as we did not want to overwhelm the website. "
   ]
  },
  {
   "cell_type": "code",
   "execution_count": 48,
   "id": "4fb2d329",
   "metadata": {
    "scrolled": false
   },
   "outputs": [
    {
     "ename": "IndexError",
     "evalue": "list index out of range",
     "output_type": "error",
     "traceback": [
      "\u001b[0;31m---------------------------------------------------------------------------\u001b[0m",
      "\u001b[0;31mIndexError\u001b[0m                                Traceback (most recent call last)",
      "\u001b[0;32m<ipython-input-48-659b6e7c2592>\u001b[0m in \u001b[0;36m<module>\u001b[0;34m\u001b[0m\n\u001b[1;32m     19\u001b[0m     \u001b[0;32mfor\u001b[0m \u001b[0mn\u001b[0m \u001b[0;32min\u001b[0m \u001b[0mrange\u001b[0m\u001b[0;34m(\u001b[0m\u001b[0;36m0\u001b[0m\u001b[0;34m,\u001b[0m\u001b[0;36m50\u001b[0m\u001b[0;34m)\u001b[0m\u001b[0;34m:\u001b[0m\u001b[0;34m\u001b[0m\u001b[0;34m\u001b[0m\u001b[0m\n\u001b[1;32m     20\u001b[0m         \u001b[0;31m# separate the first element of the list and make it the variable position_\u001b[0m\u001b[0;34m\u001b[0m\u001b[0;34m\u001b[0m\u001b[0;34m\u001b[0m\u001b[0m\n\u001b[0;32m---> 21\u001b[0;31m         \u001b[0mposition_\u001b[0m \u001b[0;34m=\u001b[0m \u001b[0mplayers\u001b[0m\u001b[0;34m[\u001b[0m\u001b[0mn\u001b[0m\u001b[0;34m]\u001b[0m\u001b[0;34m[\u001b[0m\u001b[0;36m0\u001b[0m\u001b[0;34m]\u001b[0m\u001b[0;34m.\u001b[0m\u001b[0mtext\u001b[0m\u001b[0;34m.\u001b[0m\u001b[0mstrip\u001b[0m\u001b[0;34m(\u001b[0m\u001b[0;34m)\u001b[0m\u001b[0;34m\u001b[0m\u001b[0;34m\u001b[0m\u001b[0m\n\u001b[0m\u001b[1;32m     22\u001b[0m         \u001b[0;31m# Separate the second element and make it cap_hit_\u001b[0m\u001b[0;34m\u001b[0m\u001b[0;34m\u001b[0m\u001b[0;34m\u001b[0m\u001b[0m\n\u001b[1;32m     23\u001b[0m         \u001b[0mcap_hit_\u001b[0m \u001b[0;34m=\u001b[0m \u001b[0mplayers\u001b[0m\u001b[0;34m[\u001b[0m\u001b[0mn\u001b[0m\u001b[0;34m]\u001b[0m\u001b[0;34m[\u001b[0m\u001b[0;36m1\u001b[0m\u001b[0;34m]\u001b[0m\u001b[0;34m.\u001b[0m\u001b[0mtext\u001b[0m\u001b[0;34m.\u001b[0m\u001b[0mstrip\u001b[0m\u001b[0;34m(\u001b[0m\u001b[0;34m)\u001b[0m\u001b[0;34m\u001b[0m\u001b[0;34m\u001b[0m\u001b[0m\n",
      "\u001b[0;31mIndexError\u001b[0m: list index out of range"
     ]
    }
   ],
   "source": [
    "# Loop through the pages\n",
    "for i in range(1,33):\n",
    "    page = i\n",
    "    # Get the webpage\n",
    "    response = requests.get(f'https://www.capfriendly.com/browse/active/2021?age-calculation-date=october1&hide=team,clauses,age,handed,expiry-status,salary,skater-stats,goalie-stats&pg={page}')\n",
    "    # Transform the response\n",
    "    soup = BeautifulSoup(response.content)\n",
    "    #Find the table we are looking for\n",
    "    table = soup.find(id='brwt')\n",
    "    # Find all entries in the table (100 entries)\n",
    "    team_position_salary = table.find_all('td', class_='center')\n",
    "    # Divide this into sets of 2 (position and cap hit) and make it a list\n",
    "    players = [team_position_salary[x:x+2] for x in range(0, len(team_position_salary), 2)]\n",
    "    # Find the player names in the row and make it a list\n",
    "    player_name =  table.find_all('td', class_='left')\n",
    "\n",
    "    \n",
    "    #Loop through the list\n",
    "    for n in range(0,50):\n",
    "        # separate the first element of the list and make it the variable position_\n",
    "        position_ = players[n][0].text.strip()\n",
    "        # Separate the second element and make it cap_hit_\n",
    "        cap_hit_ = players[n][1].text.strip()\n",
    "        # Find the player and make it a variable\n",
    "        name_ = player_name[n].text.strip()\n",
    "    \n",
    "        # Append these variables to the lists with the year\n",
    "        name.append(name_)\n",
    "        position.append(position_)\n",
    "        cap_hit.append(cap_hit)\n",
    "        year.append(2021)\n",
    "    \n"
   ]
  },
  {
   "cell_type": "markdown",
   "id": "2449f736",
   "metadata": {},
   "source": [
    "The error above is because there is not 50 entries on the last page. This was done for every year from 2007-2021. "
   ]
  },
  {
   "cell_type": "markdown",
   "id": "6749afad",
   "metadata": {},
   "source": [
    "#### Creating the dataframe\n",
    "\n",
    "We want to now convert these lists into a dataframe and convert this file to a csv"
   ]
  },
  {
   "cell_type": "code",
   "execution_count": 49,
   "id": "4802dd9c",
   "metadata": {},
   "outputs": [],
   "source": [
    "# We pass in a dictionary; the keys are the column names we want, and the values are the variables we've created\n",
    "salaries = pd.DataFrame({'year': year, 'name': name, 'position': position, 'cap_hit': cap_hit})\n"
   ]
  },
  {
   "cell_type": "code",
   "execution_count": null,
   "id": "140ce590",
   "metadata": {},
   "outputs": [],
   "source": [
    "# Check that this worked\n",
    "salaries.head()"
   ]
  },
  {
   "cell_type": "code",
   "execution_count": 273,
   "id": "7ebaeedd",
   "metadata": {},
   "outputs": [],
   "source": [
    "## Convert this to a csv\n",
    "salaries.to_csv('data/salaries.csv', index=False)"
   ]
  },
  {
   "cell_type": "code",
   "execution_count": 116,
   "id": "ebde35df",
   "metadata": {},
   "outputs": [
    {
     "data": {
      "text/html": [
       "<div>\n",
       "<style scoped>\n",
       "    .dataframe tbody tr th:only-of-type {\n",
       "        vertical-align: middle;\n",
       "    }\n",
       "\n",
       "    .dataframe tbody tr th {\n",
       "        vertical-align: top;\n",
       "    }\n",
       "\n",
       "    .dataframe thead th {\n",
       "        text-align: right;\n",
       "    }\n",
       "</style>\n",
       "<table border=\"1\" class=\"dataframe\">\n",
       "  <thead>\n",
       "    <tr style=\"text-align: right;\">\n",
       "      <th></th>\n",
       "      <th>year</th>\n",
       "      <th>name</th>\n",
       "      <th>position</th>\n",
       "      <th>cap_hit</th>\n",
       "    </tr>\n",
       "  </thead>\n",
       "  <tbody>\n",
       "    <tr>\n",
       "      <th>0</th>\n",
       "      <td>2021</td>\n",
       "      <td>1. Connor McDavid</td>\n",
       "      <td>C</td>\n",
       "      <td>$12500000</td>\n",
       "    </tr>\n",
       "    <tr>\n",
       "      <th>1</th>\n",
       "      <td>2021</td>\n",
       "      <td>2. Artemi Panarin</td>\n",
       "      <td>LW</td>\n",
       "      <td>$11642857</td>\n",
       "    </tr>\n",
       "    <tr>\n",
       "      <th>2</th>\n",
       "      <td>2021</td>\n",
       "      <td>3. Auston Matthews</td>\n",
       "      <td>C</td>\n",
       "      <td>$11640250</td>\n",
       "    </tr>\n",
       "    <tr>\n",
       "      <th>3</th>\n",
       "      <td>2021</td>\n",
       "      <td>4. Erik Karlsson</td>\n",
       "      <td>RD</td>\n",
       "      <td>$11500000</td>\n",
       "    </tr>\n",
       "    <tr>\n",
       "      <th>4</th>\n",
       "      <td>2021</td>\n",
       "      <td>5. John Tavares</td>\n",
       "      <td>C</td>\n",
       "      <td>$11000000</td>\n",
       "    </tr>\n",
       "  </tbody>\n",
       "</table>\n",
       "</div>"
      ],
      "text/plain": [
       "   year                name position    cap_hit\n",
       "0  2021   1. Connor McDavid        C  $12500000\n",
       "1  2021   2. Artemi Panarin       LW  $11642857\n",
       "2  2021  3. Auston Matthews        C  $11640250\n",
       "3  2021    4. Erik Karlsson       RD  $11500000\n",
       "4  2021     5. John Tavares        C  $11000000"
      ]
     },
     "execution_count": 116,
     "metadata": {},
     "output_type": "execute_result"
    }
   ],
   "source": [
    "## Double check that this worked\n",
    "salaries.head()"
   ]
  },
  {
   "cell_type": "code",
   "execution_count": null,
   "id": "a025b946",
   "metadata": {},
   "outputs": [],
   "source": [
    "# Remove the $ \n",
    "\n",
    "salaries['cap_hit] = salaries['cap_hit].str.replace(\"$\", '')"
   ]
  },
  {
   "cell_type": "code",
   "execution_count": 285,
   "id": "1895f92d",
   "metadata": {},
   "outputs": [],
   "source": [
    "# Change the cap_hit type to int\n",
    "salaries['cap_hit'] = salaries['cap_hit'].astype(int)"
   ]
  },
  {
   "cell_type": "code",
   "execution_count": 288,
   "id": "d8025039",
   "metadata": {},
   "outputs": [
    {
     "name": "stdout",
     "output_type": "stream",
     "text": [
      "<class 'pandas.core.frame.DataFrame'>\n",
      "RangeIndex: 18042 entries, 0 to 18041\n",
      "Data columns (total 4 columns):\n",
      " #   Column    Non-Null Count  Dtype \n",
      "---  ------    --------------  ----- \n",
      " 0   year      18042 non-null  int64 \n",
      " 1   name      18042 non-null  object\n",
      " 2   position  18042 non-null  object\n",
      " 3   cap_hit   18042 non-null  int64 \n",
      "dtypes: int64(2), object(2)\n",
      "memory usage: 563.9+ KB\n"
     ]
    }
   ],
   "source": [
    "salaries.info()"
   ]
  },
  {
   "cell_type": "markdown",
   "id": "7995059a",
   "metadata": {},
   "source": [
    "### Rosters\n",
    "\n",
    "We first set up our team list"
   ]
  },
  {
   "cell_type": "code",
   "execution_count": 46,
   "id": "035f416f",
   "metadata": {},
   "outputs": [],
   "source": [
    "# Team List\n",
    "teams = ['CAR', 'NYR', \"NYI\", 'NJD','CBJ', 'PHI', 'PIT', 'FLA', 'TOR', ' TBL', 'DET', 'BOS', 'BUF', 'MTL', 'OTT',\n",
    "        'MIN', 'NSH', 'STL', 'COL', 'DAL', 'CHI','EDM', 'CGY', 'LAK', 'SJS', 'VAN', 'ANA', 'WSH']"
   ]
  },
  {
   "cell_type": "code",
   "execution_count": 32,
   "id": "08fe85f4",
   "metadata": {},
   "outputs": [],
   "source": [
    "# Empty Lists\n",
    "name_1 = []\n",
    "team_1 = []\n",
    "season_1 = []"
   ]
  },
  {
   "cell_type": "markdown",
   "id": "6799b014",
   "metadata": {},
   "source": [
    "##### Looping Through Teams and Seasons\n",
    "\n",
    "We set up a nested loop to run through teams and seasons to get rosters from www.hockey-reference.com"
   ]
  },
  {
   "cell_type": "code",
   "execution_count": 36,
   "id": "0d587260",
   "metadata": {},
   "outputs": [],
   "source": [
    "# Set up the range of years\n",
    "years = [2007,2008,2009,2010, 2011,2012,2013,2014,2015,2016,2017,2018,2019,2020,2021]\n",
    "\n",
    "#Set up the outter loop\n",
    "for t in teams:\n",
    "    for n in years:\n",
    "        # Get the response\n",
    "        response = requests.get(f'https://www.hockey-reference.com/teams/{t}/{n}.html')\n",
    "        # Convert with BeautifulSoup\n",
    "        soup = BeautifulSoup(response.content)\n",
    "        # Find the table with the rosters\n",
    "        rost = soup.find('div', class_='table_wrapper', id='all_roster')\n",
    "        # Find the smaller table\n",
    "        roster = rost.find('table', id='roster')\n",
    "        # find the entries in the table\n",
    "        clean = roster.find('tbody')\n",
    "        # find all entries into a list\n",
    "        clean_roster = clean.find_all('td', class_='left')\n",
    "        # separate the list into groups of 2\n",
    "        players = [clean_roster[x:x+2] for x in range(0, len(clean_roster), 3)]\n",
    "        \n",
    "        # Loop through the list\n",
    "        for i in range(0, len(players)):\n",
    "            # find the player name\n",
    "            player = players[i][0].text.strip()\n",
    "            #Append the name\n",
    "            name_1.append(player)\n",
    "            # append the team name (t)\n",
    "            team_1.append(t)\n",
    "            # Append the season (n)\n",
    "            season_1.append(n)\n",
    "\n",
    "   "
   ]
  },
  {
   "cell_type": "markdown",
   "id": "9d418c64",
   "metadata": {},
   "source": [
    "#### Create the dataframe"
   ]
  },
  {
   "cell_type": "code",
   "execution_count": 107,
   "id": "eeb7f433",
   "metadata": {},
   "outputs": [],
   "source": [
    "# Create a dataframe with the lists. \n",
    "players = pd.DataFrame({'year': season, 'name': name, 'team': team})"
   ]
  },
  {
   "cell_type": "code",
   "execution_count": 108,
   "id": "bbaed44e",
   "metadata": {
    "scrolled": true
   },
   "outputs": [
    {
     "data": {
      "text/html": [
       "<div>\n",
       "<style scoped>\n",
       "    .dataframe tbody tr th:only-of-type {\n",
       "        vertical-align: middle;\n",
       "    }\n",
       "\n",
       "    .dataframe tbody tr th {\n",
       "        vertical-align: top;\n",
       "    }\n",
       "\n",
       "    .dataframe thead th {\n",
       "        text-align: right;\n",
       "    }\n",
       "</style>\n",
       "<table border=\"1\" class=\"dataframe\">\n",
       "  <thead>\n",
       "    <tr style=\"text-align: right;\">\n",
       "      <th></th>\n",
       "      <th>year</th>\n",
       "      <th>name</th>\n",
       "      <th>team</th>\n",
       "    </tr>\n",
       "  </thead>\n",
       "  <tbody>\n",
       "    <tr>\n",
       "      <th>0</th>\n",
       "      <td>2007</td>\n",
       "      <td>Craig Adams</td>\n",
       "      <td>CAR</td>\n",
       "    </tr>\n",
       "    <tr>\n",
       "      <th>1</th>\n",
       "      <td>2007</td>\n",
       "      <td>Kevyn Adams</td>\n",
       "      <td>CAR</td>\n",
       "    </tr>\n",
       "    <tr>\n",
       "      <th>2</th>\n",
       "      <td>2007</td>\n",
       "      <td>Keith Aucoin</td>\n",
       "      <td>CAR</td>\n",
       "    </tr>\n",
       "    <tr>\n",
       "      <th>3</th>\n",
       "      <td>2007</td>\n",
       "      <td>Anton Babchuk</td>\n",
       "      <td>CAR</td>\n",
       "    </tr>\n",
       "    <tr>\n",
       "      <th>4</th>\n",
       "      <td>2007</td>\n",
       "      <td>Ryan Bayda</td>\n",
       "      <td>CAR</td>\n",
       "    </tr>\n",
       "  </tbody>\n",
       "</table>\n",
       "</div>"
      ],
      "text/plain": [
       "   year           name team\n",
       "0  2007    Craig Adams  CAR\n",
       "1  2007    Kevyn Adams  CAR\n",
       "2  2007   Keith Aucoin  CAR\n",
       "3  2007  Anton Babchuk  CAR\n",
       "4  2007     Ryan Bayda  CAR"
      ]
     },
     "execution_count": 108,
     "metadata": {},
     "output_type": "execute_result"
    }
   ],
   "source": [
    "# Check that this worked\n",
    "players.head()"
   ]
  },
  {
   "cell_type": "markdown",
   "id": "f41bcc82",
   "metadata": {},
   "source": [
    "Save the Dataframe to a csv"
   ]
  },
  {
   "cell_type": "code",
   "execution_count": 109,
   "id": "38e40e4f",
   "metadata": {},
   "outputs": [],
   "source": [
    "# Save to csv\n",
    "players.to_csv('data/players.csv', index=False)"
   ]
  },
  {
   "cell_type": "markdown",
   "id": "caf7f952",
   "metadata": {},
   "source": [
    "## Conclusion\n",
    "\n",
    "In this notebook, we can see that we can easily obtain player salaries and team rosters through webscraping. This was a very rough notebook in terms of actual coding, as there was alot of manual work to do with this scraping. The data we need is was in very rough form and was not easily obtained in terms of one solid code. \n",
    "\n",
    "At the end of the day, we have what we need and will begin to clean the data in the next notebook: <b> Book2 - Data Cleaning </b>"
   ]
  }
 ],
 "metadata": {
  "kernelspec": {
   "display_name": "Python 3",
   "language": "python",
   "name": "python3"
  },
  "language_info": {
   "codemirror_mode": {
    "name": "ipython",
    "version": 3
   },
   "file_extension": ".py",
   "mimetype": "text/x-python",
   "name": "python",
   "nbconvert_exporter": "python",
   "pygments_lexer": "ipython3",
   "version": "3.8.8"
  }
 },
 "nbformat": 4,
 "nbformat_minor": 5
}
