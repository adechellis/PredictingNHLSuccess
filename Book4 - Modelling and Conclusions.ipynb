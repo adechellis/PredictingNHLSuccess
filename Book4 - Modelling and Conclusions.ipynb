{
 "cells": [
  {
   "cell_type": "markdown",
   "id": "cd5ed6a8",
   "metadata": {},
   "source": [
    "# Notebook 4 - Modelling and Conclusions\n",
    "\n",
    "##### Alessandro DeChellis\n",
    "##### Data Set: nhl_data_modelling.csv"
   ]
  },
  {
   "cell_type": "markdown",
   "id": "aca9c1ad",
   "metadata": {},
   "source": [
    "## Introduction\n",
    "\n",
    "In this notebook, we will be using our data from the previous notebook to do our modelling. The goal of this notebook is to find an accurate way to predict regular season and playoff success. They are defined as the following:\n",
    "\n",
    "<b>Regular Season Success</b>: Making it to the playoffs (R1 = 1). There are 16 teams that make playoffs each year \n",
    "\n",
    "<b>Playoff Success</b>: Making it to the second round of the playoffs (R2 = 1). There are 8 teams that reach the second round each year\n",
    "\n",
    "The analysis will explore how we can predict a team's success based on the distribution of their salary cap. We will also look to explore what salaries are most important and influential on a team's success.\n",
    "\n",
    "<b>** Note: This is the last notebook in a 4 part series **</b>"
   ]
  },
  {
   "cell_type": "code",
   "execution_count": 252,
   "id": "5784168b",
   "metadata": {},
   "outputs": [],
   "source": [
    "## Import our packages \n",
    "import pandas as pd\n",
    "import numpy as np\n",
    "import matplotlib.pyplot as plt \n",
    "from matplotlib.pyplot import figure\n",
    "import seaborn as sns\n",
    "import re\n",
    "from math import exp\n",
    "from sklearn.linear_model import LogisticRegression\n",
    "from sklearn import metrics\n",
    "import warnings\n",
    "from sklearn.metrics import plot_confusion_matrix, confusion_matrix\n",
    "from sklearn.tree import DecisionTreeClassifier"
   ]
  },
  {
   "cell_type": "markdown",
   "id": "b7e46c56",
   "metadata": {},
   "source": [
    "#### Read in CSV\n",
    "\n",
    "Our first step is to read in the csv from the previous notebook. We then check to see that it is the the data we expect. "
   ]
  },
  {
   "cell_type": "code",
   "execution_count": 253,
   "id": "efc136e9",
   "metadata": {},
   "outputs": [],
   "source": [
    "# Read in the csv\n",
    "\n",
    "nhl_data = pd.read_csv('data/nhl_data_modelling.csv')"
   ]
  },
  {
   "cell_type": "code",
   "execution_count": 254,
   "id": "b08795fa",
   "metadata": {
    "scrolled": true
   },
   "outputs": [
    {
     "data": {
      "text/html": [
       "<div>\n",
       "<style scoped>\n",
       "    .dataframe tbody tr th:only-of-type {\n",
       "        vertical-align: middle;\n",
       "    }\n",
       "\n",
       "    .dataframe tbody tr th {\n",
       "        vertical-align: top;\n",
       "    }\n",
       "\n",
       "    .dataframe thead th {\n",
       "        text-align: right;\n",
       "    }\n",
       "</style>\n",
       "<table border=\"1\" class=\"dataframe\">\n",
       "  <thead>\n",
       "    <tr style=\"text-align: right;\">\n",
       "      <th></th>\n",
       "      <th>team</th>\n",
       "      <th>year</th>\n",
       "      <th>R1</th>\n",
       "      <th>R2</th>\n",
       "      <th>R3</th>\n",
       "      <th>R4</th>\n",
       "      <th>WC</th>\n",
       "      <th>1</th>\n",
       "      <th>2</th>\n",
       "      <th>3</th>\n",
       "      <th>...</th>\n",
       "      <th>16</th>\n",
       "      <th>17</th>\n",
       "      <th>18</th>\n",
       "      <th>19</th>\n",
       "      <th>20</th>\n",
       "      <th>salary cap</th>\n",
       "      <th>Q1</th>\n",
       "      <th>Q2</th>\n",
       "      <th>Q3</th>\n",
       "      <th>Q4</th>\n",
       "    </tr>\n",
       "  </thead>\n",
       "  <tbody>\n",
       "    <tr>\n",
       "      <th>0</th>\n",
       "      <td>ARI</td>\n",
       "      <td>2012</td>\n",
       "      <td>1</td>\n",
       "      <td>1</td>\n",
       "      <td>1</td>\n",
       "      <td>0</td>\n",
       "      <td>0</td>\n",
       "      <td>0.081649</td>\n",
       "      <td>0.077760</td>\n",
       "      <td>0.070762</td>\n",
       "      <td>...</td>\n",
       "      <td>0.019440</td>\n",
       "      <td>0.017107</td>\n",
       "      <td>0.016330</td>\n",
       "      <td>0.013997</td>\n",
       "      <td>0.013997</td>\n",
       "      <td>64300000</td>\n",
       "      <td>0.335148</td>\n",
       "      <td>0.195568</td>\n",
       "      <td>0.125583</td>\n",
       "      <td>0.080871</td>\n",
       "    </tr>\n",
       "    <tr>\n",
       "      <th>1</th>\n",
       "      <td>ARI</td>\n",
       "      <td>2013</td>\n",
       "      <td>0</td>\n",
       "      <td>0</td>\n",
       "      <td>0</td>\n",
       "      <td>0</td>\n",
       "      <td>0</td>\n",
       "      <td>0.082426</td>\n",
       "      <td>0.081649</td>\n",
       "      <td>0.062208</td>\n",
       "      <td>...</td>\n",
       "      <td>0.017107</td>\n",
       "      <td>0.013997</td>\n",
       "      <td>0.013997</td>\n",
       "      <td>0.013271</td>\n",
       "      <td>0.013227</td>\n",
       "      <td>64300000</td>\n",
       "      <td>0.339036</td>\n",
       "      <td>0.215008</td>\n",
       "      <td>0.124028</td>\n",
       "      <td>0.071599</td>\n",
       "    </tr>\n",
       "    <tr>\n",
       "      <th>2</th>\n",
       "      <td>ARI</td>\n",
       "      <td>2014</td>\n",
       "      <td>0</td>\n",
       "      <td>0</td>\n",
       "      <td>0</td>\n",
       "      <td>0</td>\n",
       "      <td>0</td>\n",
       "      <td>0.088129</td>\n",
       "      <td>0.085537</td>\n",
       "      <td>0.085537</td>\n",
       "      <td>...</td>\n",
       "      <td>0.017885</td>\n",
       "      <td>0.013608</td>\n",
       "      <td>0.013530</td>\n",
       "      <td>0.013427</td>\n",
       "      <td>0.013271</td>\n",
       "      <td>64300000</td>\n",
       "      <td>0.423276</td>\n",
       "      <td>0.285381</td>\n",
       "      <td>0.186042</td>\n",
       "      <td>0.071721</td>\n",
       "    </tr>\n",
       "    <tr>\n",
       "      <th>3</th>\n",
       "      <td>ARI</td>\n",
       "      <td>2015</td>\n",
       "      <td>0</td>\n",
       "      <td>0</td>\n",
       "      <td>0</td>\n",
       "      <td>0</td>\n",
       "      <td>0</td>\n",
       "      <td>0.082126</td>\n",
       "      <td>0.079710</td>\n",
       "      <td>0.076812</td>\n",
       "      <td>...</td>\n",
       "      <td>0.013406</td>\n",
       "      <td>0.012959</td>\n",
       "      <td>0.012681</td>\n",
       "      <td>0.012512</td>\n",
       "      <td>0.012367</td>\n",
       "      <td>69000000</td>\n",
       "      <td>0.384300</td>\n",
       "      <td>0.259420</td>\n",
       "      <td>0.102959</td>\n",
       "      <td>0.063925</td>\n",
       "    </tr>\n",
       "    <tr>\n",
       "      <th>4</th>\n",
       "      <td>ARI</td>\n",
       "      <td>2016</td>\n",
       "      <td>0</td>\n",
       "      <td>0</td>\n",
       "      <td>0</td>\n",
       "      <td>0</td>\n",
       "      <td>0</td>\n",
       "      <td>0.079365</td>\n",
       "      <td>0.077031</td>\n",
       "      <td>0.074230</td>\n",
       "      <td>...</td>\n",
       "      <td>0.012955</td>\n",
       "      <td>0.012955</td>\n",
       "      <td>0.012955</td>\n",
       "      <td>0.012255</td>\n",
       "      <td>0.012255</td>\n",
       "      <td>71400000</td>\n",
       "      <td>0.335668</td>\n",
       "      <td>0.228291</td>\n",
       "      <td>0.100000</td>\n",
       "      <td>0.063375</td>\n",
       "    </tr>\n",
       "  </tbody>\n",
       "</table>\n",
       "<p>5 rows × 32 columns</p>\n",
       "</div>"
      ],
      "text/plain": [
       "  team  year  R1  R2  R3  R4  WC         1         2         3  ...        16  \\\n",
       "0  ARI  2012   1   1   1   0   0  0.081649  0.077760  0.070762  ...  0.019440   \n",
       "1  ARI  2013   0   0   0   0   0  0.082426  0.081649  0.062208  ...  0.017107   \n",
       "2  ARI  2014   0   0   0   0   0  0.088129  0.085537  0.085537  ...  0.017885   \n",
       "3  ARI  2015   0   0   0   0   0  0.082126  0.079710  0.076812  ...  0.013406   \n",
       "4  ARI  2016   0   0   0   0   0  0.079365  0.077031  0.074230  ...  0.012955   \n",
       "\n",
       "         17        18        19        20  salary cap        Q1        Q2  \\\n",
       "0  0.017107  0.016330  0.013997  0.013997    64300000  0.335148  0.195568   \n",
       "1  0.013997  0.013997  0.013271  0.013227    64300000  0.339036  0.215008   \n",
       "2  0.013608  0.013530  0.013427  0.013271    64300000  0.423276  0.285381   \n",
       "3  0.012959  0.012681  0.012512  0.012367    69000000  0.384300  0.259420   \n",
       "4  0.012955  0.012955  0.012255  0.012255    71400000  0.335668  0.228291   \n",
       "\n",
       "         Q3        Q4  \n",
       "0  0.125583  0.080871  \n",
       "1  0.124028  0.071599  \n",
       "2  0.186042  0.071721  \n",
       "3  0.102959  0.063925  \n",
       "4  0.100000  0.063375  \n",
       "\n",
       "[5 rows x 32 columns]"
      ]
     },
     "execution_count": 254,
     "metadata": {},
     "output_type": "execute_result"
    }
   ],
   "source": [
    "# check our csv \n",
    "\n",
    "nhl_data.head()"
   ]
  },
  {
   "cell_type": "markdown",
   "id": "9bb8faa8",
   "metadata": {},
   "source": [
    "### Model Selection\n",
    "\n",
    "For this analysis, we will be using a logistic regression and a decision tree classifier. \n",
    "\n",
    "A logistic regression will allow us to find the salaries of players that have the most impact on a team's succes and implement those findings into an NHL organization.\n",
    "\n",
    "It is our hope that the decision tree classifier will give us a more accurate prediction of which teams will or won't be successful."
   ]
  },
  {
   "cell_type": "markdown",
   "id": "d9487f05",
   "metadata": {},
   "source": [
    "## Model 1:  Regular Season Success Logistic Regression\n",
    "\n",
    "The first step in our modelling is to run a logistic regression to figure out which salary variables most affect a team making the playoffs (R1 = 1). We will first set the X and y variables as the features and target variable, respectively."
   ]
  },
  {
   "cell_type": "code",
   "execution_count": 365,
   "id": "d4e7872b",
   "metadata": {},
   "outputs": [],
   "source": [
    "# columns to drop\n",
    "drops = ['R1','R2', 'R3', 'R4', 'WC', 'Q1', 'Q2', 'Q3', 'Q4', 'team', 'year', 'salary cap']\n",
    "\n",
    "#Set X and y variables\n",
    "\n",
    "X = nhl_data.drop(columns=drops)\n",
    "y = nhl_data['R1']"
   ]
  },
  {
   "cell_type": "markdown",
   "id": "a8a3b0da",
   "metadata": {},
   "source": [
    "Check to see that the feature and target are the shapes that we want. "
   ]
  },
  {
   "cell_type": "code",
   "execution_count": 366,
   "id": "9161175e",
   "metadata": {},
   "outputs": [
    {
     "name": "stdout",
     "output_type": "stream",
     "text": [
      "(304, 20)\n",
      "(304,)\n"
     ]
    }
   ],
   "source": [
    "#Check to see that this worked and we have an equal amount of rows\n",
    "\n",
    "print(X.shape)\n",
    "print(y.shape)"
   ]
  },
  {
   "cell_type": "markdown",
   "id": "bced18c6",
   "metadata": {},
   "source": [
    "### Train/Test/Validation Split\n",
    "\n",
    "The next step is to split the variables into a train set and test set in order to find our accuracy. We have chosen a 60/40 split for remainder and test sets, respectively. We will use an 80/20 split for the training and validation sets. The validation set will be used to optimize our parameters."
   ]
  },
  {
   "cell_type": "code",
   "execution_count": 420,
   "id": "4a7c9616",
   "metadata": {},
   "outputs": [],
   "source": [
    "from sklearn.model_selection import train_test_split\n",
    "\n",
    "# Split the data\n",
    "X_remainder1, X_test1, y_remainder1, y_test1 = \\\n",
    "    train_test_split(X, y, test_size = 0.4,\n",
    "                     random_state=1)"
   ]
  },
  {
   "cell_type": "code",
   "execution_count": 421,
   "id": "959ce98d",
   "metadata": {},
   "outputs": [],
   "source": [
    "# Split the remainder into train and validation sets\n",
    "\n",
    "X_train1, X_validation1, y_train1, y_validation1 = \\\n",
    "    train_test_split(X_remainder1, y_remainder1, test_size = 0.3,\n",
    "                     random_state=1)"
   ]
  },
  {
   "cell_type": "markdown",
   "id": "82ad03c2",
   "metadata": {},
   "source": [
    "### Optimization \n",
    "\n",
    "In order to optimize the model, the c value will be optimized using the validation set. There will be a loop through 17 different multiples of 10 to find the value that will give us the best results"
   ]
  },
  {
   "cell_type": "code",
   "execution_count": 422,
   "id": "c070b1ae",
   "metadata": {},
   "outputs": [],
   "source": [
    "# set the empty lists\n",
    "validation_scores = []\n",
    "train_scores = []\n",
    "\n",
    "# Set the c values to check for\n",
    "C_range = np.array([.00000001,.0000001,.000001,.00001,.0001,.001,0.1,\\\n",
    "                1,10,100,1000,10000,100000,1000000,10000000,100000000,1000000000])\n",
    "\n",
    "# Loop through all the values\n",
    "for c in C_range:\n",
    "    season_logreg = LogisticRegression(C = c,random_state=1)\n",
    "    season_logreg.fit(X_train1,y_train1)\n",
    "    \n",
    "    # train on traning set\n",
    "    train_scores.append(season_logreg.score(X_train1,y_train1))\n",
    "    # score on validation set\n",
    "    validation_scores.append(season_logreg.score(X_validation1,y_validation1))\n",
    "    \n"
   ]
  },
  {
   "cell_type": "code",
   "execution_count": 423,
   "id": "a84620b8",
   "metadata": {},
   "outputs": [
    {
     "data": {
      "image/png": "[encoded data removed]",
      "text/plain": [
       "<Figure size 432x288 with 1 Axes>"
      ]
     },
     "metadata": {
      "needs_background": "light"
     },
     "output_type": "display_data"
    }
   ],
   "source": [
    "# Plot the values above\n",
    "\n",
    "plt.figure()\n",
    "plt.plot(C_range, train_scores,label=\"Train Score\",marker='.')\n",
    "plt.plot(C_range, validation_scores,label=\"Validation Scores\",marker='.')\n",
    "plt.xscale('log')\n",
    "plt.xlabel('C Value')\n",
    "plt.ylabel('Accuracy')\n",
    "plt.legend()\n",
    "plt.show();"
   ]
  },
  {
   "cell_type": "markdown",
   "id": "a3bac4d6",
   "metadata": {},
   "source": [
    "From this plot, we can see that our optimal C value is at 100. This is where our train and validation scores are the closest."
   ]
  },
  {
   "cell_type": "markdown",
   "id": "b87a8bb5",
   "metadata": {},
   "source": [
    "### Running the Model\n",
    "\n",
    "We can now train and test the model to see what our accuracy scores are for the test set."
   ]
  },
  {
   "cell_type": "code",
   "execution_count": 424,
   "id": "8a8ce056",
   "metadata": {},
   "outputs": [
    {
     "name": "stdout",
     "output_type": "stream",
     "text": [
      "Train score: 0.6614173228346457\n",
      "Test score: 0.5983606557377049\n"
     ]
    }
   ],
   "source": [
    "# Ignore Warnings\n",
    "warnings.filterwarnings(\"ignore\")\n",
    "\n",
    "# Fitting the model\n",
    "season_reg = LogisticRegression(C = 100)\n",
    "season_reg.fit(X_train1, y_train1)\n",
    "\n",
    "# Scoring\n",
    "print(f\"Train score: {season_reg.score(X_train1, y_train1)}\") \n",
    "print(f\"Test score: {season_reg.score(X_test1, y_test1)}\") "
   ]
  },
  {
   "cell_type": "code",
   "execution_count": 425,
   "id": "e54ea189",
   "metadata": {},
   "outputs": [
    {
     "data": {
      "image/png": "[encoded data removed]",
      "text/plain": [
       "<Figure size 432x288 with 1 Axes>"
      ]
     },
     "metadata": {
      "needs_background": "light"
     },
     "output_type": "display_data"
    }
   ],
   "source": [
    "# Set up the player list\n",
    "players = ['1', '2', '3', '4', '5','6', '7', '8','9','10','11','12','13','14','15','16','17','18','19','20']\n",
    "\n",
    "# Create a dataframe with the coefficients\n",
    "season_coef = pd.DataFrame({'player': players, 'coeficient': season_reg.coef_[0]})\n",
    "\n",
    "#Sort by coefficient value\n",
    "season_coef = season_coef.sort_values(by=['coeficient'], ascending = True)\n",
    "\n",
    "# Plot the coefficients\n",
    "plt.plot()\n",
    "plt.bar(season_coef['player'], season_coef['coeficient'])\n",
    "plt.title('Coefficients by Player')\n",
    "plt.xlabel('Player')\n",
    "plt.ylabel('Coeficient')\n",
    "plt.show()\n"
   ]
  },
  {
   "cell_type": "markdown",
   "id": "d6ed6189",
   "metadata": {},
   "source": [
    "##### Coefficients\n",
    "\n",
    "From the above graph, we can see that players in the top ten of the salaries tend to have a higher effect on a team making the playoffs. What's interesting is that the ninth highest paid player has the fourth biggest coefficient, which goes along with our theory that team depth has a large affect on the team's success."
   ]
  },
  {
   "cell_type": "markdown",
   "id": "5f43efc0",
   "metadata": {},
   "source": [
    "### Accuracy\n",
    "\n",
    "As noted above, the accuracy on the test score is 59%. This is not ideal, but we can look more into this by creating a confustion matrix and  to identify where the issues lie. "
   ]
  },
  {
   "cell_type": "code",
   "execution_count": 426,
   "id": "bac26e1c",
   "metadata": {},
   "outputs": [
    {
     "data": {
      "image/png": "[encoded data removed]",
      "text/plain": [
       "<Figure size 432x288 with 2 Axes>"
      ]
     },
     "metadata": {
      "needs_background": "light"
     },
     "output_type": "display_data"
    }
   ],
   "source": [
    "## plot the confusion matrix\n",
    "plot_confusion_matrix(season_reg, X_test1, y_test1);"
   ]
  },
  {
   "cell_type": "code",
   "execution_count": 443,
   "id": "27fbad0f",
   "metadata": {},
   "outputs": [
    {
     "name": "stdout",
     "output_type": "stream",
     "text": [
      "              precision    recall  f1-score   support\n",
      "\n",
      "           0       0.56      0.65      0.60        57\n",
      "           1       0.64      0.55      0.60        65\n",
      "\n",
      "    accuracy                           0.60       122\n",
      "   macro avg       0.60      0.60      0.60       122\n",
      "weighted avg       0.60      0.60      0.60       122\n",
      "\n"
     ]
    }
   ],
   "source": [
    "from sklearn.metrics import f1_score\n",
    "## find the report \n",
    "y_pred1 = season_reg.predict(X_test1)\n",
    "report_initial = classification_report(y_test1, y_pred1)\n",
    "print(report_initial)\n"
   ]
  },
  {
   "cell_type": "markdown",
   "id": "0cbea75a",
   "metadata": {},
   "source": [
    "From what we can see, there are quite a few false positives and false negatives for this model. Given that we want to predict positives, we look at the recall score. Our recal score on this model is 0.55, meaning the model is only predicting 55% of actual positives to be positive, not a great score. "
   ]
  },
  {
   "cell_type": "markdown",
   "id": "6c22e23e",
   "metadata": {},
   "source": [
    "## Model 2: First Round Playoff Success Logistic Regression\n",
    "\n",
    "The first step in our modelling is to run a logistic regression to figure out which salary variables most affect a team winning a playoff round (R2 = 1). We will first set the X and y variables as the features and target variable, respectively."
   ]
  },
  {
   "cell_type": "code",
   "execution_count": 428,
   "id": "55cc8e3f",
   "metadata": {},
   "outputs": [],
   "source": [
    "# columns to drop\n",
    "drops = ['R1','R2', 'R3', 'R4', 'WC', 'Q1', 'Q2', 'Q3', 'Q4', 'team', 'year', 'salary cap']\n",
    "\n",
    "#Set X and y variables\n",
    "\n",
    "X1 = nhl_data.drop(columns=drops)\n",
    "y1 = nhl_data['R2']"
   ]
  },
  {
   "cell_type": "code",
   "execution_count": 429,
   "id": "4b38878e",
   "metadata": {
    "scrolled": true
   },
   "outputs": [
    {
     "name": "stdout",
     "output_type": "stream",
     "text": [
      "(304, 20)\n",
      "(304,)\n"
     ]
    }
   ],
   "source": [
    "#Check to see that this worked and we have an equal amount of rows\n",
    "\n",
    "print(X1.shape)\n",
    "print(y1.shape)"
   ]
  },
  {
   "cell_type": "markdown",
   "id": "cdf02f69",
   "metadata": {},
   "source": [
    "### Train/Test/Validation Split\n",
    "\n",
    "Similar to above, we will use a 40% test set, and from the remainder, a 20% validation set. "
   ]
  },
  {
   "cell_type": "code",
   "execution_count": 431,
   "id": "9fc3184d",
   "metadata": {},
   "outputs": [],
   "source": [
    "# Split the data\n",
    "X_remainder2, X_test2, y_remainder2, y_test2 = \\\n",
    "    train_test_split(X1, y1, test_size = 0.4,\n",
    "                     random_state=1)"
   ]
  },
  {
   "cell_type": "code",
   "execution_count": 432,
   "id": "520abf18",
   "metadata": {},
   "outputs": [],
   "source": [
    "# Split the remainder\n",
    "X_train2, X_validation2, y_train2, y_validation2 = \\\n",
    "    train_test_split(X_remainder2, y_remainder2, test_size = 0.3,\n",
    "                     random_state=1)"
   ]
  },
  {
   "cell_type": "markdown",
   "id": "c7aa845c",
   "metadata": {},
   "source": [
    "### Optimization\n",
    "\n",
    "The same method as above was used to find the optimal C value for our model"
   ]
  },
  {
   "cell_type": "code",
   "execution_count": 433,
   "id": "100a5fbe",
   "metadata": {},
   "outputs": [],
   "source": [
    "# Set up the blank lists\n",
    "validation_scores2 = []\n",
    "train_scores2 = []\n",
    "#Set the range\n",
    "C_range = np.array([.00000001,.0000001,.000001,.00001,.0001,.001,0.1,\\\n",
    "                1,10,100,1000,10000,100000,1000000,10000000,100000000,1000000000])\n",
    "\n",
    "#Run the loop\n",
    "for c in C_range:\n",
    "    playoff_logreg = LogisticRegression(C = c,random_state=1)\n",
    "    playoff_logreg.fit(X_train2,y_train2)\n",
    "    \n",
    "    # train on traning set\n",
    "    train_scores2.append(playoff_logreg.score(X_train2,y_train2))\n",
    "    # score on validation set\n",
    "    validation_scores2.append(playoff_logreg.score(X_validation2,y_validation2))\n",
    "    "
   ]
  },
  {
   "cell_type": "code",
   "execution_count": 434,
   "id": "703fa3be",
   "metadata": {
    "scrolled": true
   },
   "outputs": [
    {
     "data": {
      "image/png": "[encoded data removed]",
      "text/plain": [
       "<Figure size 432x288 with 1 Axes>"
      ]
     },
     "metadata": {
      "needs_background": "light"
     },
     "output_type": "display_data"
    }
   ],
   "source": [
    "#plot the values\n",
    "plt.figure()\n",
    "plt.plot(C_range, train_scores2,label=\"Train Score\",marker='.')\n",
    "plt.plot(C_range, validation_scores2,label=\"Validation Scores\",marker='.')\n",
    "plt.xscale('log')\n",
    "plt.xlabel('C')\n",
    "plt.ylabel('Accuracy')\n",
    "plt.legend()\n",
    "plt.show();"
   ]
  },
  {
   "cell_type": "markdown",
   "id": "8d4c02dc",
   "metadata": {},
   "source": [
    "We will use a C value of 100. As it is one of the scores with the lowest distance between validation and train scores. "
   ]
  },
  {
   "cell_type": "markdown",
   "id": "672c0c86",
   "metadata": {},
   "source": [
    "### Running the Model\n",
    "\n",
    "We again train and test our model for accuracy and to find the coeffients."
   ]
  },
  {
   "cell_type": "code",
   "execution_count": 439,
   "id": "a13450b0",
   "metadata": {
    "scrolled": true
   },
   "outputs": [
    {
     "name": "stdout",
     "output_type": "stream",
     "text": [
      "Train score: 0.7637795275590551\n",
      "Test score: 0.7131147540983607\n"
     ]
    }
   ],
   "source": [
    "# Ignore Warnings\n",
    "warnings.filterwarnings(\"ignore\")\n",
    "\n",
    "# Fitting the model\n",
    "playoff_reg = LogisticRegression(C = 1000)\n",
    "playoff_reg.fit(X_train2, y_train2)\n",
    "\n",
    "# Scoring\n",
    "print(f\"Train score: {playoff_reg.score(X_train2, y_train2)}\") \n",
    "print(f\"Test score: {playoff_reg.score(X_test2, y_test2)}\") "
   ]
  },
  {
   "cell_type": "code",
   "execution_count": 440,
   "id": "72d12f03",
   "metadata": {
    "scrolled": true
   },
   "outputs": [
    {
     "data": {
      "image/png": "[encoded data removed]",
      "text/plain": [
       "<Figure size 432x288 with 1 Axes>"
      ]
     },
     "metadata": {
      "needs_background": "light"
     },
     "output_type": "display_data"
    }
   ],
   "source": [
    "# Set up the list of players\n",
    "players = ['1', '2', '3', '4', '5','6', '7', '8','9','10','11','12','13','14','15','16','17','18','19','20']\n",
    "# create a dataframe with the coefficients\n",
    "playoff_coef = pd.DataFrame({'player': players, 'coeficient': playoff_reg.coef_[0]})\n",
    "# Sort by coefficient values\n",
    "playoff_coef = playoff_coef.sort_values(by=['coeficient'], ascending = True)\n",
    "#Plot the Values\n",
    "plt.plot()\n",
    "plt.bar(playoff_coef['player'], playoff_coef['coeficient'])\n",
    "plt.title('Coefficients by Player')\n",
    "plt.xlabel('Player')\n",
    "plt.ylabel('Coeficient')\n",
    "plt.show()\n"
   ]
  },
  {
   "cell_type": "markdown",
   "id": "c3042ffb",
   "metadata": {},
   "source": [
    "##### Coefficients\n",
    "\n",
    "From the above coefficients, we see that players 4, 9 and 11 have the highest positive coefficients for a positive score on our test (first round win). This is very applicable for general managers to show that second and third line players (6-15th in salaries) tend to make the most impact in the playoffs. \n",
    "\n",
    "Intuitively, we know that first line players tend to get held to low production in the playoffs, justified by this analysis thus far. "
   ]
  },
  {
   "cell_type": "markdown",
   "id": "b5824713",
   "metadata": {},
   "source": [
    "### Accuracy\n",
    "\n",
    "The accuracy on the test score is 71.3%. We will dive into this more below."
   ]
  },
  {
   "cell_type": "code",
   "execution_count": 442,
   "id": "7ac8419e",
   "metadata": {
    "scrolled": false
   },
   "outputs": [
    {
     "data": {
      "image/png": "[encoded data removed]",
      "text/plain": [
       "<Figure size 432x288 with 2 Axes>"
      ]
     },
     "metadata": {
      "needs_background": "light"
     },
     "output_type": "display_data"
    }
   ],
   "source": [
    "# Plot the confusion matrix\n",
    "plot_confusion_matrix(season_reg, X_test2, y_test2);"
   ]
  },
  {
   "cell_type": "code",
   "execution_count": 444,
   "id": "7cc3ee79",
   "metadata": {},
   "outputs": [
    {
     "name": "stdout",
     "output_type": "stream",
     "text": [
      "              precision    recall  f1-score   support\n",
      "\n",
      "           0       0.77      0.61      0.68        84\n",
      "           1       0.41      0.61      0.49        38\n",
      "\n",
      "    accuracy                           0.61       122\n",
      "   macro avg       0.59      0.61      0.58       122\n",
      "weighted avg       0.66      0.61      0.62       122\n",
      "\n"
     ]
    }
   ],
   "source": [
    "# Set y_pred2\n",
    "y_pred2 = season_reg.predict(X_test2)\n",
    "# Run and print the report\n",
    "report_initial2 = classification_report(y_test2, y_pred2)\n",
    "print(report_initial2)\n"
   ]
  },
  {
   "cell_type": "markdown",
   "id": "556a49d6",
   "metadata": {},
   "source": [
    "In this model, we have higher accuracy (71.3%) and a higher recall score (61%). This is a much better model than the one done for regular season success. This leads us to believe that building a team being more conscious of salary distribution can lead to higher success in the playoffs. "
   ]
  },
  {
   "cell_type": "markdown",
   "id": "100acbde",
   "metadata": {},
   "source": [
    "## Model 3: Decision Tree for Regular Season Success\n",
    "\n",
    "In an attempt to increase accuracy and recall on our predictor, we will run a decision tree classifier. "
   ]
  },
  {
   "cell_type": "code",
   "execution_count": 446,
   "id": "ba7baa14",
   "metadata": {},
   "outputs": [],
   "source": [
    "# columns to drop\n",
    "drops = ['R1','R2', 'R3', 'R4', 'WC', 'Q1', 'Q2', 'Q3', 'Q4', 'team', 'year', 'salary cap']\n",
    "\n",
    "#Set X and y variables\n",
    "\n",
    "X2 = nhl_data.drop(columns=drops)\n",
    "y2 = nhl_data['R1']"
   ]
  },
  {
   "cell_type": "markdown",
   "id": "59ac6f18",
   "metadata": {},
   "source": [
    "### Train/Test/Validation Split\n",
    "\n",
    "For this Decision Tree, I will be using a 30% test set, and from the remainder, a 20% validation set. "
   ]
  },
  {
   "cell_type": "code",
   "execution_count": 471,
   "id": "abed3d46",
   "metadata": {},
   "outputs": [],
   "source": [
    "from sklearn.model_selection import train_test_split\n",
    "\n",
    "# Split the data\n",
    "X_remainder3, X_test3, y_remainder3, y_test3 = \\\n",
    "    train_test_split(X2, y2, test_size = 0.3,\n",
    "                     random_state=1)"
   ]
  },
  {
   "cell_type": "code",
   "execution_count": 472,
   "id": "bda13c32",
   "metadata": {},
   "outputs": [],
   "source": [
    "# Split the validation set\n",
    "X_train3, X_validation3, y_train3, y_validation3 = \\\n",
    "    train_test_split(X_remainder3, y_remainder3, test_size = 0.2,\n",
    "                     random_state=1)"
   ]
  },
  {
   "cell_type": "markdown",
   "id": "008b79dd",
   "metadata": {},
   "source": [
    "### Optimization\n",
    "\n",
    "To find our optimal hyperparameters, we will be running a loop to find the optimal value for `max_depth`. This will be done similarily to above where we run a loop and plot the results. "
   ]
  },
  {
   "cell_type": "code",
   "execution_count": 473,
   "id": "7d6d367a",
   "metadata": {},
   "outputs": [],
   "source": [
    "# Set up the blank lists\n",
    "\n",
    "validation_scores2 = []\n",
    "train_scores2 = []\n",
    "\n",
    "# Run the loop\n",
    "\n",
    "C_range = range(1,20)\n",
    "\n",
    "for c in C_range:\n",
    "    season_DT = DecisionTreeClassifier(max_depth=c)\n",
    "    season_DT.fit(X_train3,y_train3)\n",
    "    \n",
    "    # train on traning set\n",
    "    train_scores2.append(season_DT.score(X_train3,y_train3))\n",
    "    # score on validation set\n",
    "    validation_scores2.append(season_DT.score(X_validation3,y_validation3))"
   ]
  },
  {
   "cell_type": "code",
   "execution_count": 474,
   "id": "b9920653",
   "metadata": {
    "scrolled": true
   },
   "outputs": [
    {
     "data": {
      "image/png": "[encoded data removed]",
      "text/plain": [
       "<Figure size 432x288 with 1 Axes>"
      ]
     },
     "metadata": {
      "needs_background": "light"
     },
     "output_type": "display_data"
    }
   ],
   "source": [
    "# Plot the values\n",
    "\n",
    "plt.figure()\n",
    "plt.plot(C_range, train_scores2,label=\"Train Score\",marker='.')\n",
    "plt.plot(C_range, validation_scores2,label=\"Validation Scores\",marker='.')\n",
    "plt.xlabel('Max Depth')\n",
    "plt.ylabel('Accuracy')\n",
    "plt.legend()\n",
    "plt.show();"
   ]
  },
  {
   "cell_type": "markdown",
   "id": "14ceb6c8",
   "metadata": {},
   "source": [
    "Looking at the plot, it occurs to me that a `max_depth` of 3 will be optimal for our model. there is a high accuracy score with a small distance between validation and train scores. "
   ]
  },
  {
   "cell_type": "markdown",
   "id": "90ee6d30",
   "metadata": {},
   "source": [
    "### Running the Model\n",
    "\n",
    "We can now run our decision tree with the optimized hyperparameters. "
   ]
  },
  {
   "cell_type": "code",
   "execution_count": 475,
   "id": "c2050e7f",
   "metadata": {},
   "outputs": [
    {
     "name": "stdout",
     "output_type": "stream",
     "text": [
      "The train classification accuracy is:  0.7692307692307693\n",
      "The test classification accuracy is:  0.6630434782608695\n"
     ]
    }
   ],
   "source": [
    "# Instantiate and fit the model\n",
    "season_DT = DecisionTreeClassifier(max_depth=3)\n",
    "season_DT.fit(X_train3, y_train3)\n",
    "\n",
    "print(f\"The train classification accuracy is:  {season_DT.score(X_train3,y_train3)}\")\n",
    "print(f\"The test classification accuracy is:  {season_DT.score(X_test3,y_test3)}\")"
   ]
  },
  {
   "cell_type": "markdown",
   "id": "9ee4ba56",
   "metadata": {},
   "source": [
    "### Accuracy\n",
    "\n",
    "Our 66% accuracy is higher than our logistic regression for Regular Season success, we can check below if this is something we can rely on or not by looking at the recall score."
   ]
  },
  {
   "cell_type": "code",
   "execution_count": 480,
   "id": "7682e61f",
   "metadata": {
    "scrolled": true
   },
   "outputs": [
    {
     "data": {
      "image/png": "[encoded data removed]",
      "text/plain": [
       "<Figure size 432x288 with 2 Axes>"
      ]
     },
     "metadata": {
      "needs_background": "light"
     },
     "output_type": "display_data"
    }
   ],
   "source": [
    "# Run the Confusion Matrixx\n",
    "plot_confusion_matrix(season_DT, X_test3, y_test3);"
   ]
  },
  {
   "cell_type": "code",
   "execution_count": 479,
   "id": "4c3aa54e",
   "metadata": {},
   "outputs": [],
   "source": [
    "# Define y_pred3\n",
    "y_pred3 = season_DT.predict(X_test3)"
   ]
  },
  {
   "cell_type": "code",
   "execution_count": 490,
   "id": "f785149a",
   "metadata": {},
   "outputs": [
    {
     "name": "stdout",
     "output_type": "stream",
     "text": [
      "              precision    recall  f1-score   support\n",
      "\n",
      "           0       0.61      0.71      0.66        42\n",
      "           1       0.72      0.62      0.67        50\n",
      "\n",
      "    accuracy                           0.66        92\n",
      "   macro avg       0.67      0.67      0.66        92\n",
      "weighted avg       0.67      0.66      0.66        92\n",
      "\n"
     ]
    }
   ],
   "source": [
    "# Get the Report\n",
    "report_initial3 = classification_report(y_test3, y_pred3)\n",
    "print(report_initial3)"
   ]
  },
  {
   "cell_type": "markdown",
   "id": "b094880d",
   "metadata": {},
   "source": [
    "This model is a slightly better predictor for our regular season success of a team. A recall of 0.62 shows us that we are correctly predicting positive scores 62% of the time"
   ]
  },
  {
   "cell_type": "markdown",
   "id": "ea60ca35",
   "metadata": {},
   "source": [
    "## Model 4: Decision Tree for Playoff Success\n",
    "\n",
    "To ride the improvements of our regular season decision tree, we will run the same classifier to predict playoff success. "
   ]
  },
  {
   "cell_type": "code",
   "execution_count": 481,
   "id": "bc1f103f",
   "metadata": {},
   "outputs": [],
   "source": [
    "# columns to drop\n",
    "drops = ['R1','R2', 'R3', 'R4', 'WC', 'Q1', 'Q2', 'Q3', 'Q4', 'team', 'year', 'salary cap']\n",
    "\n",
    "#Set X and y variables\n",
    "\n",
    "X3 = nhl_data.drop(columns=drops)\n",
    "y3 = nhl_data['R2']"
   ]
  },
  {
   "cell_type": "markdown",
   "id": "f31efca4",
   "metadata": {},
   "source": [
    "### Train/Test/Validation Split\n",
    "\n",
    "Similar to above, we will be using a 30% test set and of the remainder, a 20% validation Set"
   ]
  },
  {
   "cell_type": "code",
   "execution_count": 482,
   "id": "fcc08440",
   "metadata": {},
   "outputs": [],
   "source": [
    "# Split the data for the test set\n",
    "X_remainder4, X_test4, y_remainder4, y_test4 = \\\n",
    "    train_test_split(X3, y3, test_size = 0.3,\n",
    "                     random_state=1)"
   ]
  },
  {
   "cell_type": "code",
   "execution_count": 484,
   "id": "e3491824",
   "metadata": {},
   "outputs": [],
   "source": [
    "# Split the remainder set to get the validation set\n",
    "X_train4, X_validation4, y_train4, y_validation4 = \\\n",
    "    train_test_split(X_remainder3, y_remainder3, test_size = 0.2,\n",
    "                     random_state=1)"
   ]
  },
  {
   "cell_type": "markdown",
   "id": "6c8836d0",
   "metadata": {},
   "source": [
    "### Optimization\n",
    "\n",
    "We will be using the same strategy as above to optimize for `max_depth`. "
   ]
  },
  {
   "cell_type": "code",
   "execution_count": 485,
   "id": "17f08781",
   "metadata": {},
   "outputs": [],
   "source": [
    "# Set up the blank lists\n",
    "\n",
    "validation_scores3 = []\n",
    "train_scores3 = []\n",
    "\n",
    "# Run the loop\n",
    "\n",
    "C_range = range(1,20)\n",
    "\n",
    "for c in C_range:\n",
    "    playoff_DT = DecisionTreeClassifier(max_depth=c)\n",
    "    playoff_DT.fit(X_train4,y_train4)\n",
    "    \n",
    "    # train on traning set\n",
    "    train_scores3.append(playoff_DT.score(X_train4,y_train4))\n",
    "    # score on validation set\n",
    "    validation_scores3.append(playoff_DT.score(X_validation4,y_validation4))"
   ]
  },
  {
   "cell_type": "code",
   "execution_count": 486,
   "id": "e970867c",
   "metadata": {},
   "outputs": [
    {
     "data": {
      "image/png": "[encoded data removed]",
      "text/plain": [
       "<Figure size 432x288 with 1 Axes>"
      ]
     },
     "metadata": {
      "needs_background": "light"
     },
     "output_type": "display_data"
    }
   ],
   "source": [
    "# Plot the values\n",
    "\n",
    "plt.figure()\n",
    "plt.plot(C_range, train_scores3,label=\"Train Score\",marker='.')\n",
    "plt.plot(C_range, validation_scores3,label=\"Validation Scores\",marker='.')\n",
    "plt.xlabel('Max Depth')\n",
    "plt.ylabel('Accuracy')\n",
    "plt.legend()\n",
    "plt.show();"
   ]
  },
  {
   "cell_type": "markdown",
   "id": "d6566e4b",
   "metadata": {},
   "source": [
    "We will use a max_depth of 3, where the train and validation scores are the closest."
   ]
  },
  {
   "cell_type": "markdown",
   "id": "562152ab",
   "metadata": {},
   "source": [
    "### Running the Model\n",
    "\n",
    "We can now run the model with our optimized hyperparameters"
   ]
  },
  {
   "cell_type": "code",
   "execution_count": 488,
   "id": "a9eae644",
   "metadata": {},
   "outputs": [
    {
     "name": "stdout",
     "output_type": "stream",
     "text": [
      "The train classification accuracy is:  0.7692307692307693\n",
      "The test classification accuracy is:  0.5978260869565217\n"
     ]
    }
   ],
   "source": [
    "# Instantiate and fit the model\n",
    "playoff_DT = DecisionTreeClassifier(max_depth=3)\n",
    "playoff_DT.fit(X_train4, y_train4)\n",
    "\n",
    "print(f\"The train classification accuracy is:  {playoff_DT.score(X_train4,y_train4)}\")\n",
    "print(f\"The test classification accuracy is:  {playoff_DT.score(X_test4,y_test4)}\")"
   ]
  },
  {
   "cell_type": "markdown",
   "id": "e1089bf3",
   "metadata": {},
   "source": [
    "### Analyze\n",
    "\n",
    "Our accuracy on this model is lower than the logistic regression for Playoff Success, but we need to look at the confusion matrix to see if we can rely on this value."
   ]
  },
  {
   "cell_type": "code",
   "execution_count": 489,
   "id": "96d0d76f",
   "metadata": {
    "scrolled": true
   },
   "outputs": [
    {
     "data": {
      "image/png": "[encoded data removed]",
      "text/plain": [
       "<Figure size 432x288 with 2 Axes>"
      ]
     },
     "metadata": {
      "needs_background": "light"
     },
     "output_type": "display_data"
    }
   ],
   "source": [
    "# Run the Confusion Matrixx\n",
    "plot_confusion_matrix(playoff_DT, X_test4, y_test4);"
   ]
  },
  {
   "cell_type": "code",
   "execution_count": 492,
   "id": "3d843815",
   "metadata": {},
   "outputs": [],
   "source": [
    "# Define y_pred4\n",
    "y_pred4 = playoff_DT.predict(X_test4)"
   ]
  },
  {
   "cell_type": "code",
   "execution_count": 493,
   "id": "8e9cce8c",
   "metadata": {},
   "outputs": [
    {
     "name": "stdout",
     "output_type": "stream",
     "text": [
      "              precision    recall  f1-score   support\n",
      "\n",
      "           0       0.77      0.59      0.67        63\n",
      "           1       0.41      0.62      0.49        29\n",
      "\n",
      "    accuracy                           0.60        92\n",
      "   macro avg       0.59      0.60      0.58        92\n",
      "weighted avg       0.66      0.60      0.61        92\n",
      "\n"
     ]
    }
   ],
   "source": [
    "# Get the Report\n",
    "report_initial4 = classification_report(y_test4, y_pred4)\n",
    "print(report_initial4)"
   ]
  },
  {
   "cell_type": "markdown",
   "id": "25d769c9",
   "metadata": {},
   "source": [
    "For the playoff decision tree classifier, we have a lower overall accuracy than the logistic regression, but a higher recall. In our case, we actually prefer the higher recall, as we are looking for teams that are going to have R2 = 1"
   ]
  },
  {
   "cell_type": "markdown",
   "id": "0a7ab6a4",
   "metadata": {},
   "source": [
    "## Conclusion and Findings\n",
    "\n",
    "In this notebook, we ran 4 models: two Logistic Regressions and two Decision Tree Classifiers. For each model, we ran one for regular season success (R1 = 1) and playoff success (R2 = 1). \n",
    "\n",
    "From the models, we can conclude a few points: \n",
    "\n",
    "<b> Regular Season Success</b>\n",
    "    \n",
    "It can be seen above that regular season success is heavily dependant upon the top players in a team's lineup. Intuitively, we know this to be true, as it has been seen over the past few seasons that top players tend to lead their teams to success. Players like Conor McDavid, Auston Matthews and Artemi Panarin are all paid well above the average for top players and have made the playoffs consistently. \n",
    "\n",
    "Our anaylsis tells us that finding players that are worth these top end contracts will get your team to the playoffs at a higher rate, as seen in the coefficients of our first logistic regression.\n",
    "    \n",
    "<b> Playoff Success </b>\n",
    "    \n",
    "Through our second logistic regression, we can see that there is a shift towards 5-15th top salaried players being more of a factor when it comes to winning playoff rounds. We can see this to be true by the coeffients in that second logistic regression. \n",
    "\n",
    "<b> Predicting Success with the Decision Tree </b>\n",
    "\n",
    "Though our decision trees gave us a more accurate scoring and higher recall, there is little we can take out of this in terms of actual application. The only use for these is to prove that there is infact and effect of salary distribution on the success of a team in the regular season and playoffs."
   ]
  },
  {
   "cell_type": "markdown",
   "id": "50419d91",
   "metadata": {},
   "source": [
    "### Next Steps\n",
    "\n",
    "In terms of next steps, we will want to explore how second, third and Stanley Cup Final success is affected by these salaries. These will be done in a further iteration, as the goal for this report was to find out how salaries change our chances at a playoff berth and winning the first round. \n",
    "\n",
    "In order to have actionable steps with this information, we will also want to dive into finding out which players are worth different salaries. This will also be done in the coming weeks, where we will take the salaries and statistics of NHL players and deciding who is worth their salary and who can provide the most value for the salary they are paid. "
   ]
  }
 ],
 "metadata": {
  "kernelspec": {
   "display_name": "Python 3",
   "language": "python",
   "name": "python3"
  },
  "language_info": {
   "codemirror_mode": {
    "name": "ipython",
    "version": 3
   },
   "file_extension": ".py",
   "mimetype": "text/x-python",
   "name": "python",
   "nbconvert_exporter": "python",
   "pygments_lexer": "ipython3",
   "version": "3.8.8"
  }
 },
 "nbformat": 4,
 "nbformat_minor": 5
}
